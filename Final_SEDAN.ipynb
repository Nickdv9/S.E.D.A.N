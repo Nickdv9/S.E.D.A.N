{
  "nbformat": 4,
  "nbformat_minor": 0,
  "metadata": {
    "colab": {
      "name": "Final_SEDAN",
      "provenance": [],
      "collapsed_sections": []
    },
    "kernelspec": {
      "display_name": "Python 3",
      "name": "python3"
    },
    "language_info": {
      "name": "python"
    },
    "accelerator": "GPU"
  },
  "cells": [
    {
      "cell_type": "code",
      "metadata": {
        "id": "DK668fe87Y2X"
      },
      "source": [
        "from keras.layers.convolutional import MaxPooling1D\n",
        "from keras.models import Sequential\n",
        "from keras.layers import Dense,Dropout,Flatten\n",
        "from tensorflow.keras.utils import to_categorical\n",
        "from sklearn.preprocessing import LabelEncoder\n",
        "import scipy.stats"
      ],
      "execution_count": null,
      "outputs": []
    },
    {
      "cell_type": "code",
      "metadata": {
        "colab": {
          "base_uri": "https://localhost:8080/"
        },
        "id": "2T6PFqbJ_zAT",
        "outputId": "68505926-cda6-442f-d263-06059dd02d69"
      },
      "source": [
        "from google.colab import drive\n",
        "drive.mount('/content/gdrive')"
      ],
      "execution_count": null,
      "outputs": [
        {
          "output_type": "stream",
          "name": "stdout",
          "text": [
            "Drive already mounted at /content/gdrive; to attempt to forcibly remount, call drive.mount(\"/content/gdrive\", force_remount=True).\n"
          ]
        }
      ]
    },
    {
      "cell_type": "code",
      "metadata": {
        "colab": {
          "base_uri": "https://localhost:8080/"
        },
        "id": "M0wa7X-If9v1",
        "outputId": "139fd492-3b47-4adf-b597-7b703580c7b7"
      },
      "source": [
        "!pip install librosa\n"
      ],
      "execution_count": null,
      "outputs": [
        {
          "output_type": "stream",
          "name": "stdout",
          "text": [
            "Requirement already satisfied: librosa in /usr/local/lib/python3.7/dist-packages (0.8.1)\n",
            "Requirement already satisfied: soundfile>=0.10.2 in /usr/local/lib/python3.7/dist-packages (from librosa) (0.10.3.post1)\n",
            "Requirement already satisfied: numba>=0.43.0 in /usr/local/lib/python3.7/dist-packages (from librosa) (0.51.2)\n",
            "Requirement already satisfied: resampy>=0.2.2 in /usr/local/lib/python3.7/dist-packages (from librosa) (0.2.2)\n",
            "Requirement already satisfied: decorator>=3.0.0 in /usr/local/lib/python3.7/dist-packages (from librosa) (4.4.2)\n",
            "Requirement already satisfied: numpy>=1.15.0 in /usr/local/lib/python3.7/dist-packages (from librosa) (1.19.5)\n",
            "Requirement already satisfied: audioread>=2.0.0 in /usr/local/lib/python3.7/dist-packages (from librosa) (2.1.9)\n",
            "Requirement already satisfied: pooch>=1.0 in /usr/local/lib/python3.7/dist-packages (from librosa) (1.5.2)\n",
            "Requirement already satisfied: scikit-learn!=0.19.0,>=0.14.0 in /usr/local/lib/python3.7/dist-packages (from librosa) (1.0.1)\n",
            "Requirement already satisfied: scipy>=1.0.0 in /usr/local/lib/python3.7/dist-packages (from librosa) (1.4.1)\n",
            "Requirement already satisfied: packaging>=20.0 in /usr/local/lib/python3.7/dist-packages (from librosa) (21.3)\n",
            "Requirement already satisfied: joblib>=0.14 in /usr/local/lib/python3.7/dist-packages (from librosa) (1.1.0)\n",
            "Requirement already satisfied: setuptools in /usr/local/lib/python3.7/dist-packages (from numba>=0.43.0->librosa) (57.4.0)\n",
            "Requirement already satisfied: llvmlite<0.35,>=0.34.0.dev0 in /usr/local/lib/python3.7/dist-packages (from numba>=0.43.0->librosa) (0.34.0)\n",
            "Requirement already satisfied: pyparsing!=3.0.5,>=2.0.2 in /usr/local/lib/python3.7/dist-packages (from packaging>=20.0->librosa) (3.0.6)\n",
            "Requirement already satisfied: requests in /usr/local/lib/python3.7/dist-packages (from pooch>=1.0->librosa) (2.23.0)\n",
            "Requirement already satisfied: appdirs in /usr/local/lib/python3.7/dist-packages (from pooch>=1.0->librosa) (1.4.4)\n",
            "Requirement already satisfied: six>=1.3 in /usr/local/lib/python3.7/dist-packages (from resampy>=0.2.2->librosa) (1.15.0)\n",
            "Requirement already satisfied: threadpoolctl>=2.0.0 in /usr/local/lib/python3.7/dist-packages (from scikit-learn!=0.19.0,>=0.14.0->librosa) (3.0.0)\n",
            "Requirement already satisfied: cffi>=1.0 in /usr/local/lib/python3.7/dist-packages (from soundfile>=0.10.2->librosa) (1.15.0)\n",
            "Requirement already satisfied: pycparser in /usr/local/lib/python3.7/dist-packages (from cffi>=1.0->soundfile>=0.10.2->librosa) (2.21)\n",
            "Requirement already satisfied: urllib3!=1.25.0,!=1.25.1,<1.26,>=1.21.1 in /usr/local/lib/python3.7/dist-packages (from requests->pooch>=1.0->librosa) (1.24.3)\n",
            "Requirement already satisfied: chardet<4,>=3.0.2 in /usr/local/lib/python3.7/dist-packages (from requests->pooch>=1.0->librosa) (3.0.4)\n",
            "Requirement already satisfied: idna<3,>=2.5 in /usr/local/lib/python3.7/dist-packages (from requests->pooch>=1.0->librosa) (2.10)\n",
            "Requirement already satisfied: certifi>=2017.4.17 in /usr/local/lib/python3.7/dist-packages (from requests->pooch>=1.0->librosa) (2021.10.8)\n"
          ]
        }
      ]
    },
    {
      "cell_type": "code",
      "metadata": {
        "id": "wmKJaiqbgXks"
      },
      "source": [
        "import librosa\n",
        "from librosa import display\n",
        "\n",
        "data, sampling_rate = librosa.load('/content/gdrive/MyDrive/Projects/RAVDESS/Actor_01/03-01-01-01-01-01-01.wav')"
      ],
      "execution_count": null,
      "outputs": []
    },
    {
      "cell_type": "code",
      "metadata": {
        "colab": {
          "base_uri": "https://localhost:8080/"
        },
        "id": "4SwDjB2Kiim9",
        "outputId": "0f5d1030-3a2a-47f8-ea8f-e9dbaa45a35f"
      },
      "source": [
        "data[45000:45100]\n"
      ],
      "execution_count": null,
      "outputs": [
        {
          "output_type": "execute_result",
          "data": {
            "text/plain": [
              "array([-0.00642211, -0.00633277, -0.00618267, -0.00646402, -0.0068297 ,\n",
              "       -0.00716039, -0.00684222, -0.00648624, -0.00623939, -0.00617652,\n",
              "       -0.00610478, -0.00618818, -0.00596934, -0.00522639, -0.00477147,\n",
              "       -0.00426249, -0.00390363, -0.00342612, -0.00338029, -0.00314128,\n",
              "       -0.00326458, -0.00349545, -0.00319855, -0.00303377, -0.00316995,\n",
              "       -0.00256448, -0.00232591, -0.00220381, -0.00032955,  0.00212929,\n",
              "        0.00458807,  0.00707587,  0.00927432,  0.00985005,  0.01047457,\n",
              "        0.01150271,  0.01328735,  0.01503059,  0.01567831,  0.01560969,\n",
              "        0.01419976,  0.01226828,  0.01090507,  0.01106076,  0.01084399,\n",
              "        0.01023139,  0.00936303,  0.0081989 ,  0.0072638 ,  0.00686666,\n",
              "        0.00738504,  0.00734165,  0.00646042,  0.00466002,  0.00309387,\n",
              "        0.00194398,  0.00125776,  0.00113422,  0.00043837, -0.0010443 ,\n",
              "       -0.00361812, -0.00584547, -0.00739926, -0.00806093, -0.00791311,\n",
              "       -0.0078322 , -0.00771973, -0.00785792, -0.00778844, -0.00717086,\n",
              "       -0.00530311, -0.00378192, -0.00247393, -0.00070638,  0.00022739,\n",
              "        0.00127301,  0.00226915,  0.00330349,  0.00404682,  0.00374372,\n",
              "        0.00327548,  0.00274693,  0.00197781,  0.00172794,  0.00229285,\n",
              "        0.00298869,  0.00348756,  0.00374723,  0.00374982,  0.0037096 ,\n",
              "        0.00407671,  0.00499254,  0.00582591,  0.00648295,  0.00625755,\n",
              "        0.00546503,  0.00450172,  0.00337946,  0.00252437,  0.00157963],\n",
              "      dtype=float32)"
            ]
          },
          "metadata": {},
          "execution_count": 170
        }
      ]
    },
    {
      "cell_type": "code",
      "metadata": {
        "colab": {
          "base_uri": "https://localhost:8080/",
          "height": 393
        },
        "id": "55Ivmw9uhJKN",
        "outputId": "d9c3b1b6-fcca-4076-a4ec-d1af94f29c2c"
      },
      "source": [
        "% pylab inline\n",
        "\n",
        "import os\n",
        "import pandas as pd\n",
        "import glob\n",
        "\n",
        "\n",
        "plt.figure(figsize = (12, 4))\n",
        "librosa.display.waveplot(data, sr=sampling_rate)"
      ],
      "execution_count": null,
      "outputs": [
        {
          "output_type": "stream",
          "name": "stdout",
          "text": [
            "Populating the interactive namespace from numpy and matplotlib\n"
          ]
        },
        {
          "output_type": "stream",
          "name": "stderr",
          "text": [
            "/usr/local/lib/python3.7/dist-packages/IPython/core/magics/pylab.py:161: UserWarning: pylab import has clobbered these variables: ['display']\n",
            "`%matplotlib` prevents importing * from pylab and numpy\n",
            "  \"\\n`%matplotlib` prevents importing * from pylab and numpy\"\n"
          ]
        },
        {
          "output_type": "execute_result",
          "data": {
            "text/plain": [
              "<matplotlib.collections.PolyCollection at 0x7f8dd23b0090>"
            ]
          },
          "metadata": {},
          "execution_count": 171
        },
        {
          "output_type": "display_data",
          "data": {
            "image/png": "[encoded data removed]",
            "text/plain": [
              "<Figure size 864x288 with 1 Axes>"
            ]
          },
          "metadata": {
            "needs_background": "light"
          }
        }
      ]
    },
    {
      "cell_type": "code",
      "metadata": {
        "colab": {
          "base_uri": "https://localhost:8080/"
        },
        "id": "7bwNFaeKkTH0",
        "outputId": "46c41be0-0108-4eca-e9c6-2a445976d360"
      },
      "source": [
        "import time\n",
        "\n",
        "path = '/content/gdrive/MyDrive/Projects/RAVDESS'\n",
        "lst = []\n",
        "\n",
        "start_time = time.time()\n",
        "\n",
        "for subdir, dirs, files in os.walk(path):\n",
        "  for file in files:\n",
        "      try:\n",
        "        #Load librosa array, obtain mfcss, store the file and the mcss information in a new array\n",
        "        X, sample_rate = librosa.load(os.path.join(subdir,file), res_type='kaiser_fast')\n",
        "        mfccs = np.mean(librosa.feature.mfcc(y=X, sr=sample_rate, n_mfcc=40).T,axis=0) \n",
        "        # The instruction below converts the labels (from 1 to 8) to a series from 0 to 7\n",
        "        # This is because our predictor needs to start from 0 otherwise it will try to predict also 0.\n",
        "        file = int(file[7:8]) - 1 \n",
        "        arr = mfccs, file\n",
        "        lst.append(arr)\n",
        "      # If the file is not valid, skip it\n",
        "      except ValueError:\n",
        "        continue\n",
        "\n",
        "print(\"--- Data loaded. Loading time: %s seconds ---\" % (time.time() - start_time))"
      ],
      "execution_count": null,
      "outputs": [
        {
          "output_type": "stream",
          "name": "stdout",
          "text": [
            "--- Data loaded. Loading time: 115.61154389381409 seconds ---\n"
          ]
        }
      ]
    },
    {
      "cell_type": "code",
      "metadata": {
        "colab": {
          "base_uri": "https://localhost:8080/"
        },
        "id": "q7QSEVcIvi3L",
        "outputId": "669f2656-fb58-4a77-ddc4-064e26232505"
      },
      "source": [
        "file"
      ],
      "execution_count": null,
      "outputs": [
        {
          "output_type": "execute_result",
          "data": {
            "text/plain": [
              "7"
            ]
          },
          "metadata": {},
          "execution_count": 138
        }
      ]
    },
    {
      "cell_type": "code",
      "metadata": {
        "colab": {
          "base_uri": "https://localhost:8080/"
        },
        "id": "uw7dmR8Cig2V",
        "outputId": "244f01f1-edf9-481b-9fad-dbd32d343c63"
      },
      "source": [
        "len(lst)"
      ],
      "execution_count": null,
      "outputs": [
        {
          "output_type": "execute_result",
          "data": {
            "text/plain": [
              "1440"
            ]
          },
          "metadata": {},
          "execution_count": 139
        }
      ]
    },
    {
      "cell_type": "code",
      "metadata": {
        "colab": {
          "base_uri": "https://localhost:8080/"
        },
        "id": "qfmlE2KjtDON",
        "outputId": "b7e96e05-e7b0-4532-bdf2-7cc070da220c"
      },
      "source": [
        "X, y = zip(*lst)\n",
        "y"
      ],
      "execution_count": null,
      "outputs": [
        {
          "output_type": "execute_result",
          "data": {
            "text/plain": [
              "(0,\n",
              " 1,\n",
              " 1,\n",
              " 0,\n",
              " 1,\n",
              " 0,\n",
              " 0,\n",
              " 1,\n",
              " 2,\n",
              " 1,\n",
              " 1,\n",
              " 1,\n",
              " 1,\n",
              " 2,\n",
              " 2,\n",
              " 2,\n",
              " 2,\n",
              " 2,\n",
              " 3,\n",
              " 2,\n",
              " 3,\n",
              " 3,\n",
              " 3,\n",
              " 2,\n",
              " 3,\n",
              " 3,\n",
              " 3,\n",
              " 4,\n",
              " 3,\n",
              " 7,\n",
              " 6,\n",
              " 4,\n",
              " 6,\n",
              " 7,\n",
              " 6,\n",
              " 6,\n",
              " 5,\n",
              " 7,\n",
              " 5,\n",
              " 6,\n",
              " 6,\n",
              " 7,\n",
              " 4,\n",
              " 4,\n",
              " 4,\n",
              " 7,\n",
              " 7,\n",
              " 5,\n",
              " 5,\n",
              " 5,\n",
              " 7,\n",
              " 5,\n",
              " 5,\n",
              " 4,\n",
              " 6,\n",
              " 5,\n",
              " 4,\n",
              " 4,\n",
              " 6,\n",
              " 7,\n",
              " 0,\n",
              " 5,\n",
              " 2,\n",
              " 3,\n",
              " 3,\n",
              " 0,\n",
              " 0,\n",
              " 5,\n",
              " 3,\n",
              " 5,\n",
              " 1,\n",
              " 5,\n",
              " 5,\n",
              " 4,\n",
              " 1,\n",
              " 3,\n",
              " 1,\n",
              " 2,\n",
              " 0,\n",
              " 2,\n",
              " 2,\n",
              " 2,\n",
              " 3,\n",
              " 4,\n",
              " 1,\n",
              " 4,\n",
              " 5,\n",
              " 3,\n",
              " 5,\n",
              " 3,\n",
              " 2,\n",
              " 4,\n",
              " 1,\n",
              " 1,\n",
              " 3,\n",
              " 2,\n",
              " 4,\n",
              " 4,\n",
              " 4,\n",
              " 4,\n",
              " 1,\n",
              " 2,\n",
              " 1,\n",
              " 6,\n",
              " 6,\n",
              " 5,\n",
              " 7,\n",
              " 7,\n",
              " 6,\n",
              " 7,\n",
              " 7,\n",
              " 6,\n",
              " 7,\n",
              " 6,\n",
              " 6,\n",
              " 7,\n",
              " 6,\n",
              " 6,\n",
              " 7,\n",
              " 7,\n",
              " 1,\n",
              " 1,\n",
              " 1,\n",
              " 0,\n",
              " 0,\n",
              " 0,\n",
              " 1,\n",
              " 0,\n",
              " 1,\n",
              " 1,\n",
              " 1,\n",
              " 4,\n",
              " 4,\n",
              " 2,\n",
              " 4,\n",
              " 3,\n",
              " 1,\n",
              " 5,\n",
              " 5,\n",
              " 4,\n",
              " 4,\n",
              " 3,\n",
              " 5,\n",
              " 4,\n",
              " 4,\n",
              " 2,\n",
              " 5,\n",
              " 2,\n",
              " 2,\n",
              " 4,\n",
              " 3,\n",
              " 2,\n",
              " 2,\n",
              " 2,\n",
              " 3,\n",
              " 2,\n",
              " 3,\n",
              " 3,\n",
              " 3,\n",
              " 3,\n",
              " 5,\n",
              " 6,\n",
              " 6,\n",
              " 5,\n",
              " 5,\n",
              " 5,\n",
              " 7,\n",
              " 7,\n",
              " 7,\n",
              " 6,\n",
              " 6,\n",
              " 7,\n",
              " 7,\n",
              " 7,\n",
              " 6,\n",
              " 6,\n",
              " 6,\n",
              " 7,\n",
              " 6,\n",
              " 7,\n",
              " 6,\n",
              " 6,\n",
              " 0,\n",
              " 0,\n",
              " 1,\n",
              " 3,\n",
              " 3,\n",
              " 2,\n",
              " 4,\n",
              " 3,\n",
              " 5,\n",
              " 5,\n",
              " 4,\n",
              " 2,\n",
              " 4,\n",
              " 3,\n",
              " 1,\n",
              " 2,\n",
              " 1,\n",
              " 6,\n",
              " 5,\n",
              " 0,\n",
              " 3,\n",
              " 4,\n",
              " 4,\n",
              " 3,\n",
              " 0,\n",
              " 5,\n",
              " 5,\n",
              " 5,\n",
              " 5,\n",
              " 2,\n",
              " 6,\n",
              " 3,\n",
              " 5,\n",
              " 4,\n",
              " 2,\n",
              " 1,\n",
              " 1,\n",
              " 4,\n",
              " 3,\n",
              " 4,\n",
              " 2,\n",
              " 1,\n",
              " 1,\n",
              " 2,\n",
              " 1,\n",
              " 2,\n",
              " 6,\n",
              " 6,\n",
              " 6,\n",
              " 7,\n",
              " 7,\n",
              " 7,\n",
              " 6,\n",
              " 7,\n",
              " 7,\n",
              " 7,\n",
              " 7,\n",
              " 7,\n",
              " 1,\n",
              " 1,\n",
              " 3,\n",
              " 3,\n",
              " 4,\n",
              " 4,\n",
              " 0,\n",
              " 2,\n",
              " 1,\n",
              " 3,\n",
              " 0,\n",
              " 3,\n",
              " 4,\n",
              " 1,\n",
              " 3,\n",
              " 0,\n",
              " 2,\n",
              " 4,\n",
              " 1,\n",
              " 4,\n",
              " 3,\n",
              " 3,\n",
              " 2,\n",
              " 1,\n",
              " 2,\n",
              " 1,\n",
              " 2,\n",
              " 2,\n",
              " 3,\n",
              " 4,\n",
              " 4,\n",
              " 2,\n",
              " 4,\n",
              " 1,\n",
              " 2,\n",
              " 0,\n",
              " 6,\n",
              " 6,\n",
              " 5,\n",
              " 5,\n",
              " 7,\n",
              " 6,\n",
              " 7,\n",
              " 7,\n",
              " 5,\n",
              " 5,\n",
              " 6,\n",
              " 7,\n",
              " 6,\n",
              " 7,\n",
              " 5,\n",
              " 7,\n",
              " 5,\n",
              " 6,\n",
              " 7,\n",
              " 7,\n",
              " 5,\n",
              " 5,\n",
              " 6,\n",
              " 6,\n",
              " 1,\n",
              " 3,\n",
              " 3,\n",
              " 2,\n",
              " 3,\n",
              " 1,\n",
              " 2,\n",
              " 3,\n",
              " 1,\n",
              " 2,\n",
              " 1,\n",
              " 1,\n",
              " 0,\n",
              " 0,\n",
              " 0,\n",
              " 2,\n",
              " 3,\n",
              " 1,\n",
              " 0,\n",
              " 1,\n",
              " 2,\n",
              " 2,\n",
              " 1,\n",
              " 2,\n",
              " 2,\n",
              " 5,\n",
              " 5,\n",
              " 6,\n",
              " 7,\n",
              " 7,\n",
              " 4,\n",
              " 5,\n",
              " 6,\n",
              " 3,\n",
              " 6,\n",
              " 5,\n",
              " 3,\n",
              " 6,\n",
              " 7,\n",
              " 5,\n",
              " 5,\n",
              " 4,\n",
              " 5,\n",
              " 4,\n",
              " 6,\n",
              " 4,\n",
              " 6,\n",
              " 7,\n",
              " 4,\n",
              " 7,\n",
              " 6,\n",
              " 4,\n",
              " 6,\n",
              " 7,\n",
              " 4,\n",
              " 7,\n",
              " 4,\n",
              " 5,\n",
              " 3,\n",
              " 7,\n",
              " 2,\n",
              " 4,\n",
              " 2,\n",
              " 3,\n",
              " 0,\n",
              " 3,\n",
              " 4,\n",
              " 2,\n",
              " 3,\n",
              " 1,\n",
              " 3,\n",
              " 2,\n",
              " 1,\n",
              " 2,\n",
              " 3,\n",
              " 2,\n",
              " 0,\n",
              " 3,\n",
              " 1,\n",
              " 1,\n",
              " 0,\n",
              " 1,\n",
              " 2,\n",
              " 1,\n",
              " 3,\n",
              " 1,\n",
              " 3,\n",
              " 2,\n",
              " 1,\n",
              " 0,\n",
              " 7,\n",
              " 5,\n",
              " 6,\n",
              " 6,\n",
              " 5,\n",
              " 6,\n",
              " 7,\n",
              " 5,\n",
              " 5,\n",
              " 7,\n",
              " 5,\n",
              " 7,\n",
              " 7,\n",
              " 4,\n",
              " 6,\n",
              " 6,\n",
              " 4,\n",
              " 4,\n",
              " 6,\n",
              " 5,\n",
              " 6,\n",
              " 5,\n",
              " 4,\n",
              " 6,\n",
              " 4,\n",
              " 5,\n",
              " 4,\n",
              " 7,\n",
              " 7,\n",
              " 7,\n",
              " 0,\n",
              " 1,\n",
              " 0,\n",
              " 1,\n",
              " 0,\n",
              " 1,\n",
              " 1,\n",
              " 0,\n",
              " 4,\n",
              " 3,\n",
              " 6,\n",
              " 6,\n",
              " 1,\n",
              " 5,\n",
              " 2,\n",
              " 5,\n",
              " 6,\n",
              " 5,\n",
              " 6,\n",
              " 7,\n",
              " 5,\n",
              " 5,\n",
              " 3,\n",
              " 6,\n",
              " 2,\n",
              " 6,\n",
              " 7,\n",
              " 2,\n",
              " 3,\n",
              " 5,\n",
              " 4,\n",
              " 4,\n",
              " 2,\n",
              " 4,\n",
              " 1,\n",
              " 3,\n",
              " 1,\n",
              " 3,\n",
              " 6,\n",
              " 3,\n",
              " 4,\n",
              " 7,\n",
              " 5,\n",
              " 2,\n",
              " 1,\n",
              " 3,\n",
              " 4,\n",
              " 7,\n",
              " 7,\n",
              " 5,\n",
              " 7,\n",
              " 6,\n",
              " 2,\n",
              " 3,\n",
              " 4,\n",
              " 2,\n",
              " 4,\n",
              " 2,\n",
              " 7,\n",
              " 7,\n",
              " 1,\n",
              " 2,\n",
              " 1,\n",
              " 2,\n",
              " 1,\n",
              " 1,\n",
              " 2,\n",
              " 1,\n",
              " 1,\n",
              " 2,\n",
              " 1,\n",
              " 0,\n",
              " 0,\n",
              " 0,\n",
              " 2,\n",
              " 0,\n",
              " 1,\n",
              " 7,\n",
              " 3,\n",
              " 4,\n",
              " 5,\n",
              " 7,\n",
              " 5,\n",
              " 5,\n",
              " 6,\n",
              " 7,\n",
              " 7,\n",
              " 7,\n",
              " 6,\n",
              " 5,\n",
              " 6,\n",
              " 2,\n",
              " 5,\n",
              " 7,\n",
              " 4,\n",
              " 4,\n",
              " 6,\n",
              " 7,\n",
              " 3,\n",
              " 7,\n",
              " 4,\n",
              " 4,\n",
              " 4,\n",
              " 3,\n",
              " 6,\n",
              " 4,\n",
              " 6,\n",
              " 3,\n",
              " 3,\n",
              " 2,\n",
              " 3,\n",
              " 2,\n",
              " 3,\n",
              " 3,\n",
              " 5,\n",
              " 6,\n",
              " 6,\n",
              " 5,\n",
              " 4,\n",
              " 5,\n",
              " 0,\n",
              " 1,\n",
              " 3,\n",
              " 0,\n",
              " 1,\n",
              " 3,\n",
              " 0,\n",
              " 1,\n",
              " 1,\n",
              " 2,\n",
              " 3,\n",
              " 2,\n",
              " 2,\n",
              " 1,\n",
              " 3,\n",
              " 3,\n",
              " 1,\n",
              " 1,\n",
              " 2,\n",
              " 2,\n",
              " 3,\n",
              " 3,\n",
              " 1,\n",
              " 2,\n",
              " 2,\n",
              " 0,\n",
              " 2,\n",
              " 4,\n",
              " 7,\n",
              " 4,\n",
              " 5,\n",
              " 5,\n",
              " 5,\n",
              " 6,\n",
              " 6,\n",
              " 5,\n",
              " 4,\n",
              " 6,\n",
              " 3,\n",
              " 7,\n",
              " 4,\n",
              " 6,\n",
              " 7,\n",
              " 7,\n",
              " 7,\n",
              " 6,\n",
              " 6,\n",
              " 5,\n",
              " 5,\n",
              " 6,\n",
              " 6,\n",
              " 7,\n",
              " 4,\n",
              " 4,\n",
              " 5,\n",
              " 7,\n",
              " 7,\n",
              " 4,\n",
              " 4,\n",
              " 5,\n",
              " 1,\n",
              " 0,\n",
              " 0,\n",
              " 0,\n",
              " 1,\n",
              " 0,\n",
              " 1,\n",
              " 1,\n",
              " 1,\n",
              " 5,\n",
              " 3,\n",
              " 6,\n",
              " 2,\n",
              " 5,\n",
              " 7,\n",
              " 4,\n",
              " 7,\n",
              " 6,\n",
              " 1,\n",
              " 7,\n",
              " 3,\n",
              " 3,\n",
              " 7,\n",
              " 6,\n",
              " 6,\n",
              " 1,\n",
              " 2,\n",
              " 7,\n",
              " 7,\n",
              " 3,\n",
              " 6,\n",
              " 2,\n",
              " 2,\n",
              " 3,\n",
              " 7,\n",
              " 5,\n",
              " 5,\n",
              " 4,\n",
              " 3,\n",
              " 1,\n",
              " 2,\n",
              " 5,\n",
              " 4,\n",
              " 4,\n",
              " 4,\n",
              " 7,\n",
              " 5,\n",
              " 4,\n",
              " 2,\n",
              " 5,\n",
              " 6,\n",
              " 2,\n",
              " 6,\n",
              " 4,\n",
              " 4,\n",
              " 3,\n",
              " 2,\n",
              " 3,\n",
              " 6,\n",
              " 5,\n",
              " 0,\n",
              " 0,\n",
              " 1,\n",
              " 0,\n",
              " 7,\n",
              " 1,\n",
              " 1,\n",
              " 3,\n",
              " 6,\n",
              " 2,\n",
              " 5,\n",
              " 4,\n",
              " 5,\n",
              " 1,\n",
              " 1,\n",
              " 6,\n",
              " 6,\n",
              " 6,\n",
              " 6,\n",
              " 4,\n",
              " 3,\n",
              " 6,\n",
              " 1,\n",
              " 2,\n",
              " 5,\n",
              " 4,\n",
              " 5,\n",
              " 3,\n",
              " 5,\n",
              " 1,\n",
              " 4,\n",
              " 3,\n",
              " 3,\n",
              " 4,\n",
              " 4,\n",
              " 2,\n",
              " 6,\n",
              " 4,\n",
              " 2,\n",
              " 5,\n",
              " 4,\n",
              " 5,\n",
              " 2,\n",
              " 2,\n",
              " 2,\n",
              " 3,\n",
              " 2,\n",
              " 3,\n",
              " 5,\n",
              " 0,\n",
              " 6,\n",
              " 1,\n",
              " 3,\n",
              " 7,\n",
              " 7,\n",
              " 7,\n",
              " 7,\n",
              " 7,\n",
              " 7,\n",
              " 7,\n",
              " 6,\n",
              " 5,\n",
              " 1,\n",
              " 3,\n",
              " 4,\n",
              " 2,\n",
              " 5,\n",
              " 1,\n",
              " 0,\n",
              " 0,\n",
              " 6,\n",
              " 5,\n",
              " 2,\n",
              " 2,\n",
              " 4,\n",
              " 2,\n",
              " 2,\n",
              " 0,\n",
              " 6,\n",
              " 3,\n",
              " 4,\n",
              " 6,\n",
              " 2,\n",
              " 2,\n",
              " 4,\n",
              " 6,\n",
              " 4,\n",
              " 5,\n",
              " 6,\n",
              " 3,\n",
              " 1,\n",
              " 3,\n",
              " 5,\n",
              " 3,\n",
              " 6,\n",
              " 5,\n",
              " 1,\n",
              " 3,\n",
              " 7,\n",
              " 5,\n",
              " 1,\n",
              " 2,\n",
              " 1,\n",
              " 4,\n",
              " 4,\n",
              " 5,\n",
              " 1,\n",
              " 1,\n",
              " 3,\n",
              " 4,\n",
              " 6,\n",
              " 0,\n",
              " 3,\n",
              " 7,\n",
              " 7,\n",
              " 7,\n",
              " 7,\n",
              " 7,\n",
              " 7,\n",
              " 7,\n",
              " 3,\n",
              " 0,\n",
              " 2,\n",
              " 3,\n",
              " 4,\n",
              " 2,\n",
              " 0,\n",
              " 1,\n",
              " 3,\n",
              " 4,\n",
              " 0,\n",
              " 1,\n",
              " 1,\n",
              " 2,\n",
              " 5,\n",
              " 4,\n",
              " 1,\n",
              " 4,\n",
              " 5,\n",
              " 4,\n",
              " 3,\n",
              " 6,\n",
              " 5,\n",
              " 2,\n",
              " 5,\n",
              " 1,\n",
              " 3,\n",
              " 3,\n",
              " 5,\n",
              " 2,\n",
              " 4,\n",
              " 5,\n",
              " 4,\n",
              " 1,\n",
              " 0,\n",
              " 3,\n",
              " 5,\n",
              " 1,\n",
              " 2,\n",
              " 5,\n",
              " 4,\n",
              " 1,\n",
              " 2,\n",
              " 6,\n",
              " 2,\n",
              " 3,\n",
              " 6,\n",
              " 7,\n",
              " 6,\n",
              " 6,\n",
              " 7,\n",
              " 7,\n",
              " 6,\n",
              " 6,\n",
              " 7,\n",
              " 7,\n",
              " 7,\n",
              " 7,\n",
              " 7,\n",
              " 6,\n",
              " 2,\n",
              " 1,\n",
              " 1,\n",
              " 3,\n",
              " 1,\n",
              " 4,\n",
              " 0,\n",
              " 1,\n",
              " 3,\n",
              " 4,\n",
              " 3,\n",
              " 4,\n",
              " 3,\n",
              " 3,\n",
              " 1,\n",
              " 3,\n",
              " 4,\n",
              " 2,\n",
              " 2,\n",
              " 1,\n",
              " 2,\n",
              " 0,\n",
              " 1,\n",
              " 2,\n",
              " 4,\n",
              " 4,\n",
              " 2,\n",
              " 2,\n",
              " 3,\n",
              " 0,\n",
              " 3,\n",
              " 1,\n",
              " 2,\n",
              " 0,\n",
              " 5,\n",
              " 5,\n",
              " 6,\n",
              " 6,\n",
              " 5,\n",
              " 6,\n",
              " 5,\n",
              " 7,\n",
              " 7,\n",
              " 5,\n",
              " 4,\n",
              " 7,\n",
              " 7,\n",
              " 6,\n",
              " 5,\n",
              " 4,\n",
              " 7,\n",
              " 5,\n",
              " 6,\n",
              " 7,\n",
              " 7,\n",
              " 6,\n",
              " 5,\n",
              " 6,\n",
              " 6,\n",
              " 7,\n",
              " 1,\n",
              " 1,\n",
              " 1,\n",
              " 1,\n",
              " 1,\n",
              " 2,\n",
              " 1,\n",
              " 0,\n",
              " 0,\n",
              " 0,\n",
              " 1,\n",
              " 0,\n",
              " 1,\n",
              " 3,\n",
              " 6,\n",
              " 5,\n",
              " 4,\n",
              " 3,\n",
              " 5,\n",
              " 4,\n",
              " 4,\n",
              " 3,\n",
              " 5,\n",
              " 7,\n",
              " 2,\n",
              " 4,\n",
              " 6,\n",
              " 2,\n",
              " 7,\n",
              " 6,\n",
              " 3,\n",
              " 3,\n",
              " 7,\n",
              " 4,\n",
              " 5,\n",
              " 4,\n",
              " 2,\n",
              " 7,\n",
              " 6,\n",
              " 6,\n",
              " 3,\n",
              " 7,\n",
              " 2,\n",
              " 7,\n",
              " 5,\n",
              " 5,\n",
              " 4,\n",
              " 4,\n",
              " 5,\n",
              " 6,\n",
              " 6,\n",
              " 6,\n",
              " 3,\n",
              " 5,\n",
              " 2,\n",
              " 7,\n",
              " 7,\n",
              " 2,\n",
              " 3,\n",
              " 2,\n",
              " 4,\n",
              " 3,\n",
              " 0,\n",
              " 6,\n",
              " 3,\n",
              " 3,\n",
              " 5,\n",
              " 2,\n",
              " 5,\n",
              " 4,\n",
              " 5,\n",
              " 6,\n",
              " 4,\n",
              " 1,\n",
              " 1,\n",
              " 4,\n",
              " 0,\n",
              " 2,\n",
              " 3,\n",
              " 4,\n",
              " 4,\n",
              " 1,\n",
              " 5,\n",
              " 3,\n",
              " 4,\n",
              " 1,\n",
              " 1,\n",
              " 2,\n",
              " 6,\n",
              " 3,\n",
              " 6,\n",
              " 1,\n",
              " 2,\n",
              " 0,\n",
              " 1,\n",
              " 5,\n",
              " 5,\n",
              " 3,\n",
              " 2,\n",
              " 2,\n",
              " ...)"
            ]
          },
          "metadata": {},
          "execution_count": 140
        }
      ]
    },
    {
      "cell_type": "code",
      "metadata": {
        "colab": {
          "base_uri": "https://localhost:8080/"
        },
        "id": "a75kSsBZtnO0",
        "outputId": "d81e6a95-e98c-4c99-d151-2c2f3f34ad7d"
      },
      "source": [
        "import numpy as np\n",
        "X = np.asarray(X)\n",
        "y = np.asarray(y)\n",
        "\n",
        "\n",
        "X.shape, y.shape"
      ],
      "execution_count": null,
      "outputs": [
        {
          "output_type": "execute_result",
          "data": {
            "text/plain": [
              "((1440, 40), (1440,))"
            ]
          },
          "metadata": {},
          "execution_count": 141
        }
      ]
    },
    {
      "cell_type": "code",
      "metadata": {
        "id": "flm84eiTuyOM"
      },
      "source": [
        "from sklearn.model_selection import train_test_split\n",
        "\n",
        "X_train, X_test, y_train, y_test = train_test_split(X, y, test_size=0.2, random_state=42)"
      ],
      "execution_count": null,
      "outputs": []
    },
    {
      "cell_type": "code",
      "metadata": {
        "id": "aP44CiXvu0_W"
      },
      "source": [
        "from sklearn.tree import DecisionTreeClassifier"
      ],
      "execution_count": null,
      "outputs": []
    },
    {
      "cell_type": "code",
      "metadata": {
        "id": "E84EJoODu1iU"
      },
      "source": [
        "dtree = DecisionTreeClassifier(class_weight=None, criterion='entropy', max_depth=None,\n",
        "                       max_features=None, max_leaf_nodes=None,\n",
        "                       min_impurity_decrease=0.0,\n",
        "                       min_samples_leaf=1, min_samples_split=2,\n",
        "                       min_weight_fraction_leaf=0.0,\n",
        "                       random_state=None, splitter='best')"
      ],
      "execution_count": null,
      "outputs": []
    },
    {
      "cell_type": "code",
      "metadata": {
        "colab": {
          "base_uri": "https://localhost:8080/"
        },
        "id": "gEejWo1Eu4Gm",
        "outputId": "a5a41722-8f62-43fb-a18f-c54b4e1ec90d"
      },
      "source": [
        "dtree.fit(X_train, y_train)"
      ],
      "execution_count": null,
      "outputs": [
        {
          "output_type": "execute_result",
          "data": {
            "text/plain": [
              "DecisionTreeClassifier(criterion='entropy')"
            ]
          },
          "metadata": {},
          "execution_count": 16
        }
      ]
    },
    {
      "cell_type": "code",
      "metadata": {
        "id": "BdXnZh8Ru-Ky"
      },
      "source": [
        "predictions = dtree.predict(X_test)"
      ],
      "execution_count": null,
      "outputs": []
    },
    {
      "cell_type": "code",
      "metadata": {
        "colab": {
          "base_uri": "https://localhost:8080/"
        },
        "id": "yj7CHPJPvBgM",
        "outputId": "03fffa42-a3ae-4655-e261-29ae8662fb57"
      },
      "source": [
        "from sklearn.metrics import classification_report,confusion_matrix\n",
        "print(classification_report(y_test,predictions))"
      ],
      "execution_count": null,
      "outputs": [
        {
          "output_type": "stream",
          "name": "stdout",
          "text": [
            "              precision    recall  f1-score   support\n",
            "\n",
            "           0       0.30      0.35      0.33        20\n",
            "           1       0.54      0.45      0.49        42\n",
            "           2       0.39      0.35      0.37        40\n",
            "           3       0.28      0.32      0.30        34\n",
            "           4       0.43      0.37      0.40        35\n",
            "           5       0.28      0.38      0.33        39\n",
            "           6       0.36      0.36      0.36        39\n",
            "           7       0.48      0.41      0.44        39\n",
            "\n",
            "    accuracy                           0.38       288\n",
            "   macro avg       0.38      0.38      0.38       288\n",
            "weighted avg       0.39      0.38      0.38       288\n",
            "\n"
          ]
        }
      ]
    },
    {
      "cell_type": "code",
      "metadata": {
        "id": "BgPSK3qbw1LT"
      },
      "source": [
        "from sklearn.svm import SVC\n",
        "from sklearn.preprocessing import StandardScaler\n",
        "from sklearn.pipeline import make_pipeline"
      ],
      "execution_count": null,
      "outputs": []
    },
    {
      "cell_type": "code",
      "source": [
        "clf = make_pipeline(StandardScaler(), SVC())"
      ],
      "metadata": {
        "id": "35TC0P5n3ixD"
      },
      "execution_count": null,
      "outputs": []
    },
    {
      "cell_type": "code",
      "source": [
        "clf.fit(X_train, y_train)"
      ],
      "metadata": {
        "colab": {
          "base_uri": "https://localhost:8080/"
        },
        "id": "vk0VhgYh3iZ8",
        "outputId": "b226c255-6660-4168-8536-4c8da356c354"
      },
      "execution_count": null,
      "outputs": [
        {
          "output_type": "execute_result",
          "data": {
            "text/plain": [
              "Pipeline(steps=[('standardscaler', StandardScaler()), ('svc', SVC())])"
            ]
          },
          "metadata": {},
          "execution_count": 40
        }
      ]
    },
    {
      "cell_type": "code",
      "source": [
        "predictions_clf = clf.predict(X_test)\n",
        "from sklearn.metrics import classification_report,confusion_matrix\n",
        "print(classification_report(y_test,predictions_clf))"
      ],
      "metadata": {
        "colab": {
          "base_uri": "https://localhost:8080/"
        },
        "id": "IQY8TqcP3qda",
        "outputId": "1fbaaff2-10b9-490e-f92f-b73220dff9f6"
      },
      "execution_count": null,
      "outputs": [
        {
          "output_type": "stream",
          "name": "stdout",
          "text": [
            "              precision    recall  f1-score   support\n",
            "\n",
            "           0       0.12      0.05      0.07        20\n",
            "           1       0.46      0.57      0.51        42\n",
            "           2       0.57      0.40      0.47        40\n",
            "           3       0.38      0.44      0.41        34\n",
            "           4       0.79      0.66      0.72        35\n",
            "           5       0.55      0.67      0.60        39\n",
            "           6       0.51      0.59      0.55        39\n",
            "           7       0.56      0.56      0.56        39\n",
            "\n",
            "    accuracy                           0.52       288\n",
            "   macro avg       0.49      0.49      0.49       288\n",
            "weighted avg       0.52      0.52      0.51       288\n",
            "\n"
          ]
        }
      ]
    },
    {
      "cell_type": "code",
      "metadata": {
        "id": "oet6iyuDxZrn"
      },
      "source": [
        "clf = make_pipeline(StandardScaler(), SVC(kernel = \"rbf\", gamma = 0.012, C=87))"
      ],
      "execution_count": null,
      "outputs": []
    },
    {
      "cell_type": "code",
      "metadata": {
        "colab": {
          "base_uri": "https://localhost:8080/"
        },
        "id": "h48HQyyAxZro",
        "outputId": "51e1d20f-1c79-48cd-eb32-13996244d2fe"
      },
      "source": [
        "clf.fit(X_train, y_train)"
      ],
      "execution_count": null,
      "outputs": [
        {
          "output_type": "execute_result",
          "data": {
            "text/plain": [
              "Pipeline(steps=[('standardscaler', StandardScaler()),\n",
              "                ('svc', SVC(C=87, gamma=0.012))])"
            ]
          },
          "metadata": {},
          "execution_count": 28
        }
      ]
    },
    {
      "cell_type": "code",
      "metadata": {
        "id": "f8UB-p2IxZrq"
      },
      "source": [
        "predictions_clf = clf.predict(X_test)"
      ],
      "execution_count": null,
      "outputs": []
    },
    {
      "cell_type": "code",
      "metadata": {
        "colab": {
          "base_uri": "https://localhost:8080/"
        },
        "id": "3iZqh9g1xZrr",
        "outputId": "1702f124-98a9-4991-c0b5-c433b76f6c2b"
      },
      "source": [
        "from sklearn.metrics import classification_report,confusion_matrix\n",
        "print(classification_report(y_test,predictions_clf))"
      ],
      "execution_count": null,
      "outputs": [
        {
          "output_type": "stream",
          "name": "stdout",
          "text": [
            "              precision    recall  f1-score   support\n",
            "\n",
            "           0       0.45      0.75      0.57        20\n",
            "           1       0.77      0.55      0.64        42\n",
            "           2       0.70      0.75      0.72        40\n",
            "           3       0.58      0.65      0.61        34\n",
            "           4       0.88      0.86      0.87        35\n",
            "           5       0.67      0.74      0.71        39\n",
            "           6       0.83      0.74      0.78        39\n",
            "           7       0.75      0.62      0.68        39\n",
            "\n",
            "    accuracy                           0.70       288\n",
            "   macro avg       0.70      0.71      0.70       288\n",
            "weighted avg       0.72      0.70      0.70       288\n",
            "\n"
          ]
        }
      ]
    },
    {
      "cell_type": "code",
      "metadata": {
        "id": "m-ToGFqWDPt_"
      },
      "source": [
        "from sklearn.model_selection import GridSearchCV,RandomizedSearchCV"
      ],
      "execution_count": null,
      "outputs": []
    },
    {
      "cell_type": "code",
      "metadata": {
        "colab": {
          "base_uri": "https://localhost:8080/"
        },
        "id": "6OHL1XpSCX_j",
        "outputId": "e4f8347c-bb3e-437c-dd0e-5452d1bb9934"
      },
      "source": [
        "#Hyperparameter tuning\n",
        "random_grid = {'C': scipy.stats.expon(scale=100), 'gamma': scipy.stats.expon(scale=.1),\n",
        "  'kernel': ['rbf'], 'class_weight':['balanced', None]}\n",
        "\n",
        "svc_grid = RandomizedSearchCV(SVC(), random_grid, cv = 10, n_jobs = -1, verbose=True)\n",
        "\n",
        "svc_grid.fit(X,y)\n",
        "\n",
        "print(svc_grid.best_score_)\n",
        "print(svc_grid.best_params_)"
      ],
      "execution_count": null,
      "outputs": [
        {
          "output_type": "stream",
          "name": "stdout",
          "text": [
            "Fitting 10 folds for each of 10 candidates, totalling 100 fits\n",
            "0.26180555555555557\n",
            "{'C': 87.16833734379968, 'class_weight': None, 'gamma': 0.012927724177895714, 'kernel': 'rbf'}\n"
          ]
        }
      ]
    },
    {
      "cell_type": "code",
      "metadata": {
        "id": "nm3iZ4pEzIEt"
      },
      "source": [
        "from sklearn.ensemble import RandomForestClassifier"
      ],
      "execution_count": null,
      "outputs": []
    },
    {
      "cell_type": "code",
      "metadata": {
        "id": "d9XUajgg3nom"
      },
      "source": [
        "rforest = RandomForestClassifier()"
      ],
      "execution_count": null,
      "outputs": []
    },
    {
      "cell_type": "code",
      "metadata": {
        "colab": {
          "base_uri": "https://localhost:8080/"
        },
        "id": "HOYRfrVw3oUE",
        "outputId": "c6a7ce25-70bc-414e-9404-b04df39f06ca"
      },
      "source": [
        "rforest.fit(X_train, y_train)"
      ],
      "execution_count": null,
      "outputs": [
        {
          "output_type": "execute_result",
          "data": {
            "text/plain": [
              "RandomForestClassifier()"
            ]
          },
          "metadata": {},
          "execution_count": 166
        }
      ]
    },
    {
      "cell_type": "code",
      "metadata": {
        "id": "ocVhCWst3quQ"
      },
      "source": [
        "predictions = rforest.predict(X_test)"
      ],
      "execution_count": null,
      "outputs": []
    },
    {
      "cell_type": "code",
      "metadata": {
        "colab": {
          "base_uri": "https://localhost:8080/"
        },
        "id": "UESNpPj73th7",
        "outputId": "d3e8e17a-6378-42e0-b384-759e1e2dbf6c"
      },
      "source": [
        "print(classification_report(y_test,predictions))"
      ],
      "execution_count": null,
      "outputs": [
        {
          "output_type": "stream",
          "name": "stdout",
          "text": [
            "              precision    recall  f1-score   support\n",
            "\n",
            "           0       0.55      0.55      0.55        20\n",
            "           1       0.62      0.74      0.67        42\n",
            "           2       0.61      0.47      0.54        40\n",
            "           3       0.50      0.44      0.47        34\n",
            "           4       0.61      0.66      0.63        35\n",
            "           5       0.57      0.59      0.58        39\n",
            "           6       0.56      0.62      0.59        39\n",
            "           7       0.69      0.64      0.67        39\n",
            "\n",
            "    accuracy                           0.59       288\n",
            "   macro avg       0.59      0.59      0.59       288\n",
            "weighted avg       0.59      0.59      0.59       288\n",
            "\n"
          ]
        }
      ]
    },
    {
      "cell_type": "code",
      "metadata": {
        "id": "IEBxSpgnFDrg",
        "colab": {
          "base_uri": "https://localhost:8080/"
        },
        "outputId": "c189f3dd-5dcb-4168-d571-76b562634137"
      },
      "source": [
        "#Hyperparameter tuning\n",
        "random_grid = {'bootstrap': [True, False],\n",
        " 'max_depth': [10, 20, 30, 40, 50, 60, 70, 80, 90, 100, None],\n",
        " 'max_features': ['auto', 'sqrt'],\n",
        " 'min_samples_leaf': [1, 2, 4],\n",
        " 'min_samples_split': [2, 5, 10],\n",
        " 'n_estimators': [200, 400, 600, 800, 1000, 1200, 1400, 1600, 1800, 2000]}\n",
        "\n",
        "rf_grid = RandomizedSearchCV(RandomForestClassifier(), random_grid, cv = 10, n_jobs = -1, verbose=True)\n",
        "\n",
        "rf_grid.fit(X,y)\n",
        "\n",
        "print(rf_grid.best_score_)\n",
        "print(rf_grid.best_params_)"
      ],
      "execution_count": null,
      "outputs": [
        {
          "output_type": "stream",
          "name": "stdout",
          "text": [
            "Fitting 10 folds for each of 10 candidates, totalling 100 fits\n",
            "0.4305555555555555\n",
            "{'n_estimators': 2000, 'min_samples_split': 2, 'min_samples_leaf': 1, 'max_features': 'auto', 'max_depth': 90, 'bootstrap': True}\n"
          ]
        }
      ]
    },
    {
      "cell_type": "code",
      "source": [
        "rforest = RandomForestClassifier(n_estimators= 2000, min_samples_split=2, min_samples_leaf= 1, max_features= 'auto', max_depth= 90, bootstrap= True)"
      ],
      "metadata": {
        "id": "xjiry1Cp7pcn"
      },
      "execution_count": null,
      "outputs": []
    },
    {
      "cell_type": "code",
      "source": [
        "rforest.fit(X_train, y_train)"
      ],
      "metadata": {
        "colab": {
          "base_uri": "https://localhost:8080/"
        },
        "id": "E-EfqI1n76Tf",
        "outputId": "efa8c30f-044f-47c1-ddb5-eb72832c8ec4"
      },
      "execution_count": null,
      "outputs": [
        {
          "output_type": "execute_result",
          "data": {
            "text/plain": [
              "RandomForestClassifier(max_depth=90, n_estimators=2000)"
            ]
          },
          "metadata": {},
          "execution_count": 162
        }
      ]
    },
    {
      "cell_type": "code",
      "source": [
        "predictions = rforest.predict(X_test)"
      ],
      "metadata": {
        "id": "K8oN-LIE7_U7"
      },
      "execution_count": null,
      "outputs": []
    },
    {
      "cell_type": "code",
      "source": [
        ""
      ],
      "metadata": {
        "id": "108Wqg7bKfbU"
      },
      "execution_count": null,
      "outputs": []
    },
    {
      "cell_type": "code",
      "source": [
        "print(classification_report(y_test,predictions))"
      ],
      "metadata": {
        "colab": {
          "base_uri": "https://localhost:8080/"
        },
        "id": "sxv5G3JY7_FW",
        "outputId": "e146d218-72cb-4d8f-fe33-422a5bdb4786"
      },
      "execution_count": null,
      "outputs": [
        {
          "output_type": "stream",
          "name": "stdout",
          "text": [
            "              precision    recall  f1-score   support\n",
            "\n",
            "           0       0.53      0.50      0.51        20\n",
            "           1       0.56      0.69      0.62        42\n",
            "           2       0.74      0.42      0.54        40\n",
            "           3       0.48      0.47      0.48        34\n",
            "           4       0.69      0.71      0.70        35\n",
            "           5       0.58      0.67      0.62        39\n",
            "           6       0.54      0.54      0.54        39\n",
            "           7       0.73      0.77      0.75        39\n",
            "\n",
            "    accuracy                           0.60       288\n",
            "   macro avg       0.61      0.60      0.59       288\n",
            "weighted avg       0.61      0.60      0.60       288\n",
            "\n"
          ]
        }
      ]
    },
    {
      "cell_type": "code",
      "metadata": {
        "colab": {
          "base_uri": "https://localhost:8080/"
        },
        "id": "arI728Iz4PHR",
        "outputId": "7b0c1b82-18a1-4449-ff86-7f86e5a86e5e"
      },
      "source": [
        "from sklearn.neural_network import MLPClassifier\n",
        "from sklearn.datasets import make_classification\n",
        "\n",
        "mlp = MLPClassifier(max_iter=1000, learning_rate=\"constant\", batch_size=256).fit(X_train, y_train)\n",
        "predictions_mlp = mlp.predict(X_test)\n",
        "print(classification_report(y_test,predictions_mlp))"
      ],
      "execution_count": null,
      "outputs": [
        {
          "output_type": "stream",
          "name": "stdout",
          "text": [
            "              precision    recall  f1-score   support\n",
            "\n",
            "           0       0.31      0.25      0.28        20\n",
            "           1       0.46      0.38      0.42        42\n",
            "           2       0.65      0.38      0.48        40\n",
            "           3       0.33      0.50      0.40        34\n",
            "           4       0.59      0.66      0.62        35\n",
            "           5       0.74      0.44      0.55        39\n",
            "           6       0.38      0.74      0.50        39\n",
            "           7       0.52      0.33      0.41        39\n",
            "\n",
            "    accuracy                           0.47       288\n",
            "   macro avg       0.50      0.46      0.46       288\n",
            "weighted avg       0.51      0.47      0.47       288\n",
            "\n"
          ]
        }
      ]
    },
    {
      "cell_type": "code",
      "metadata": {
        "colab": {
          "base_uri": "https://localhost:8080/"
        },
        "id": "r-Xzv3bUqbGM",
        "outputId": "0b84a52c-f988-479a-a84e-d2593db87b76"
      },
      "source": [
        "from sklearn.ensemble import GradientBoostingClassifier\n",
        "from sklearn.datasets import make_classification\n",
        "\n",
        "gbc = GradientBoostingClassifier().fit(X_train, y_train)\n",
        "predictions_gbc = gbc.predict(X_test)\n",
        "print(classification_report(y_test,predictions_gbc))"
      ],
      "execution_count": null,
      "outputs": [
        {
          "output_type": "stream",
          "name": "stdout",
          "text": [
            "              precision    recall  f1-score   support\n",
            "\n",
            "           0       0.41      0.35      0.38        20\n",
            "           1       0.53      0.48      0.50        42\n",
            "           2       0.49      0.47      0.48        40\n",
            "           3       0.39      0.47      0.43        34\n",
            "           4       0.66      0.60      0.63        35\n",
            "           5       0.43      0.51      0.47        39\n",
            "           6       0.59      0.49      0.54        39\n",
            "           7       0.55      0.59      0.57        39\n",
            "\n",
            "    accuracy                           0.50       288\n",
            "   macro avg       0.50      0.50      0.50       288\n",
            "weighted avg       0.51      0.50      0.50       288\n",
            "\n"
          ]
        }
      ]
    },
    {
      "cell_type": "code",
      "metadata": {
        "colab": {
          "base_uri": "https://localhost:8080/"
        },
        "id": "-y9UkUy80a0t",
        "outputId": "fa7b85a9-2cce-4cf2-8783-776143110f30"
      },
      "source": [
        "from xgboost import XGBClassifier\n",
        "\n",
        "xgb = XGBClassifier().fit(X_train, y_train)\n",
        "predictions_xgb = xgb.predict(X_test)\n",
        "print(classification_report(y_test,predictions_xgb))"
      ],
      "execution_count": null,
      "outputs": [
        {
          "output_type": "stream",
          "name": "stdout",
          "text": [
            "              precision    recall  f1-score   support\n",
            "\n",
            "           0       0.32      0.35      0.33        20\n",
            "           1       0.50      0.45      0.48        42\n",
            "           2       0.53      0.50      0.51        40\n",
            "           3       0.47      0.53      0.50        34\n",
            "           4       0.56      0.54      0.55        35\n",
            "           5       0.47      0.59      0.52        39\n",
            "           6       0.53      0.46      0.49        39\n",
            "           7       0.57      0.51      0.54        39\n",
            "\n",
            "    accuracy                           0.50       288\n",
            "   macro avg       0.49      0.49      0.49       288\n",
            "weighted avg       0.50      0.50      0.50       288\n",
            "\n"
          ]
        }
      ]
    },
    {
      "cell_type": "code",
      "metadata": {
        "id": "_FyETrfq0uzh"
      },
      "source": [
        "x_traincnn = np.expand_dims(X_train, axis=2)\n",
        "x_testcnn = np.expand_dims(X_test, axis=2)"
      ],
      "execution_count": null,
      "outputs": []
    },
    {
      "cell_type": "code",
      "metadata": {
        "colab": {
          "base_uri": "https://localhost:8080/"
        },
        "id": "57FiqSsm1QRh",
        "outputId": "a2561de5-28fd-492c-c6cc-0211a4617b88"
      },
      "source": [
        "x_traincnn.shape, x_testcnn.shape"
      ],
      "execution_count": null,
      "outputs": [
        {
          "output_type": "execute_result",
          "data": {
            "text/plain": [
              "((1152, 40, 1), (288, 40, 1))"
            ]
          },
          "metadata": {},
          "execution_count": 113
        }
      ]
    },
    {
      "cell_type": "code",
      "metadata": {
        "colab": {
          "base_uri": "https://localhost:8080/"
        },
        "id": "JVjN5rj312pW",
        "outputId": "52e77385-6900-4d88-d63f-a73c90a8a4f9"
      },
      "source": [
        "!pip install keras"
      ],
      "execution_count": null,
      "outputs": [
        {
          "output_type": "stream",
          "name": "stdout",
          "text": [
            "Requirement already satisfied: keras in /usr/local/lib/python3.7/dist-packages (2.7.0)\n"
          ]
        }
      ]
    },
    {
      "cell_type": "code",
      "metadata": {
        "colab": {
          "base_uri": "https://localhost:8080/"
        },
        "id": "e7wfINvF21Sz",
        "outputId": "0a6921ad-1da1-4ac0-b912-b13f20978ff7"
      },
      "source": [
        "!pip install tensorflow"
      ],
      "execution_count": null,
      "outputs": [
        {
          "output_type": "stream",
          "name": "stdout",
          "text": [
            "Requirement already satisfied: tensorflow in /usr/local/lib/python3.7/dist-packages (2.7.0)\n",
            "Requirement already satisfied: termcolor>=1.1.0 in /usr/local/lib/python3.7/dist-packages (from tensorflow) (1.1.0)\n",
            "Requirement already satisfied: absl-py>=0.4.0 in /usr/local/lib/python3.7/dist-packages (from tensorflow) (0.12.0)\n",
            "Requirement already satisfied: keras<2.8,>=2.7.0rc0 in /usr/local/lib/python3.7/dist-packages (from tensorflow) (2.7.0)\n",
            "Requirement already satisfied: tensorboard~=2.6 in /usr/local/lib/python3.7/dist-packages (from tensorflow) (2.7.0)\n",
            "Requirement already satisfied: wheel<1.0,>=0.32.0 in /usr/local/lib/python3.7/dist-packages (from tensorflow) (0.37.0)\n",
            "Requirement already satisfied: h5py>=2.9.0 in /usr/local/lib/python3.7/dist-packages (from tensorflow) (3.1.0)\n",
            "Requirement already satisfied: wrapt>=1.11.0 in /usr/local/lib/python3.7/dist-packages (from tensorflow) (1.13.3)\n",
            "Requirement already satisfied: flatbuffers<3.0,>=1.12 in /usr/local/lib/python3.7/dist-packages (from tensorflow) (2.0)\n",
            "Requirement already satisfied: libclang>=9.0.1 in /usr/local/lib/python3.7/dist-packages (from tensorflow) (12.0.0)\n",
            "Requirement already satisfied: astunparse>=1.6.0 in /usr/local/lib/python3.7/dist-packages (from tensorflow) (1.6.3)\n",
            "Requirement already satisfied: protobuf>=3.9.2 in /usr/local/lib/python3.7/dist-packages (from tensorflow) (3.17.3)\n",
            "Requirement already satisfied: google-pasta>=0.1.1 in /usr/local/lib/python3.7/dist-packages (from tensorflow) (0.2.0)\n",
            "Requirement already satisfied: typing-extensions>=3.6.6 in /usr/local/lib/python3.7/dist-packages (from tensorflow) (3.10.0.2)\n",
            "Requirement already satisfied: opt-einsum>=2.3.2 in /usr/local/lib/python3.7/dist-packages (from tensorflow) (3.3.0)\n",
            "Requirement already satisfied: numpy>=1.14.5 in /usr/local/lib/python3.7/dist-packages (from tensorflow) (1.19.5)\n",
            "Requirement already satisfied: six>=1.12.0 in /usr/local/lib/python3.7/dist-packages (from tensorflow) (1.15.0)\n",
            "Requirement already satisfied: tensorflow-io-gcs-filesystem>=0.21.0 in /usr/local/lib/python3.7/dist-packages (from tensorflow) (0.22.0)\n",
            "Requirement already satisfied: tensorflow-estimator<2.8,~=2.7.0rc0 in /usr/local/lib/python3.7/dist-packages (from tensorflow) (2.7.0)\n",
            "Requirement already satisfied: gast<0.5.0,>=0.2.1 in /usr/local/lib/python3.7/dist-packages (from tensorflow) (0.4.0)\n",
            "Requirement already satisfied: grpcio<2.0,>=1.24.3 in /usr/local/lib/python3.7/dist-packages (from tensorflow) (1.42.0)\n",
            "Requirement already satisfied: keras-preprocessing>=1.1.1 in /usr/local/lib/python3.7/dist-packages (from tensorflow) (1.1.2)\n",
            "Requirement already satisfied: cached-property in /usr/local/lib/python3.7/dist-packages (from h5py>=2.9.0->tensorflow) (1.5.2)\n",
            "Requirement already satisfied: werkzeug>=0.11.15 in /usr/local/lib/python3.7/dist-packages (from tensorboard~=2.6->tensorflow) (1.0.1)\n",
            "Requirement already satisfied: google-auth<3,>=1.6.3 in /usr/local/lib/python3.7/dist-packages (from tensorboard~=2.6->tensorflow) (1.35.0)\n",
            "Requirement already satisfied: setuptools>=41.0.0 in /usr/local/lib/python3.7/dist-packages (from tensorboard~=2.6->tensorflow) (57.4.0)\n",
            "Requirement already satisfied: google-auth-oauthlib<0.5,>=0.4.1 in /usr/local/lib/python3.7/dist-packages (from tensorboard~=2.6->tensorflow) (0.4.6)\n",
            "Requirement already satisfied: requests<3,>=2.21.0 in /usr/local/lib/python3.7/dist-packages (from tensorboard~=2.6->tensorflow) (2.23.0)\n",
            "Requirement already satisfied: tensorboard-plugin-wit>=1.6.0 in /usr/local/lib/python3.7/dist-packages (from tensorboard~=2.6->tensorflow) (1.8.0)\n",
            "Requirement already satisfied: markdown>=2.6.8 in /usr/local/lib/python3.7/dist-packages (from tensorboard~=2.6->tensorflow) (3.3.6)\n",
            "Requirement already satisfied: tensorboard-data-server<0.7.0,>=0.6.0 in /usr/local/lib/python3.7/dist-packages (from tensorboard~=2.6->tensorflow) (0.6.1)\n",
            "Requirement already satisfied: cachetools<5.0,>=2.0.0 in /usr/local/lib/python3.7/dist-packages (from google-auth<3,>=1.6.3->tensorboard~=2.6->tensorflow) (4.2.4)\n",
            "Requirement already satisfied: rsa<5,>=3.1.4 in /usr/local/lib/python3.7/dist-packages (from google-auth<3,>=1.6.3->tensorboard~=2.6->tensorflow) (4.8)\n",
            "Requirement already satisfied: pyasn1-modules>=0.2.1 in /usr/local/lib/python3.7/dist-packages (from google-auth<3,>=1.6.3->tensorboard~=2.6->tensorflow) (0.2.8)\n",
            "Requirement already satisfied: requests-oauthlib>=0.7.0 in /usr/local/lib/python3.7/dist-packages (from google-auth-oauthlib<0.5,>=0.4.1->tensorboard~=2.6->tensorflow) (1.3.0)\n",
            "Requirement already satisfied: importlib-metadata>=4.4 in /usr/local/lib/python3.7/dist-packages (from markdown>=2.6.8->tensorboard~=2.6->tensorflow) (4.8.2)\n",
            "Requirement already satisfied: zipp>=0.5 in /usr/local/lib/python3.7/dist-packages (from importlib-metadata>=4.4->markdown>=2.6.8->tensorboard~=2.6->tensorflow) (3.6.0)\n",
            "Requirement already satisfied: pyasn1<0.5.0,>=0.4.6 in /usr/local/lib/python3.7/dist-packages (from pyasn1-modules>=0.2.1->google-auth<3,>=1.6.3->tensorboard~=2.6->tensorflow) (0.4.8)\n",
            "Requirement already satisfied: urllib3!=1.25.0,!=1.25.1,<1.26,>=1.21.1 in /usr/local/lib/python3.7/dist-packages (from requests<3,>=2.21.0->tensorboard~=2.6->tensorflow) (1.24.3)\n",
            "Requirement already satisfied: idna<3,>=2.5 in /usr/local/lib/python3.7/dist-packages (from requests<3,>=2.21.0->tensorboard~=2.6->tensorflow) (2.10)\n",
            "Requirement already satisfied: chardet<4,>=3.0.2 in /usr/local/lib/python3.7/dist-packages (from requests<3,>=2.21.0->tensorboard~=2.6->tensorflow) (3.0.4)\n",
            "Requirement already satisfied: certifi>=2017.4.17 in /usr/local/lib/python3.7/dist-packages (from requests<3,>=2.21.0->tensorboard~=2.6->tensorflow) (2021.10.8)\n",
            "Requirement already satisfied: oauthlib>=3.0.0 in /usr/local/lib/python3.7/dist-packages (from requests-oauthlib>=0.7.0->google-auth-oauthlib<0.5,>=0.4.1->tensorboard~=2.6->tensorflow) (3.1.1)\n"
          ]
        }
      ]
    },
    {
      "cell_type": "code",
      "metadata": {
        "id": "37a_1vh91sLN"
      },
      "source": [
        "import keras\n",
        "import numpy as np\n",
        "import matplotlib.pyplot as plt\n",
        "import tensorflow as tf\n",
        "from keras.preprocessing import sequence\n",
        "from keras.models import Sequential\n",
        "from keras.layers import Dense, Embedding\n",
        "from tensorflow.keras.utils import to_categorical\n",
        "from keras.layers import Input, Flatten, Dropout, Activation\n",
        "from keras.layers import Conv1D, MaxPooling1D\n",
        "from keras.models import Model\n",
        "from keras.callbacks import ModelCheckpoint\n",
        "from tensorflow.keras import optimizers\n",
        "\n",
        "model = Sequential()\n",
        "model.add(Conv1D(128, 5,padding='same',\n",
        "                 input_shape=(40,1)))\n",
        "model.add(Activation('relu'))\n",
        "model.add(Dropout(0.1))\n",
        "model.add(MaxPooling1D(pool_size=(8)))\n",
        "model.add(Conv1D(128, 5,padding='same',))\n",
        "model.add(Activation('relu'))\n",
        "model.add(Dropout(0.1))\n",
        "model.add(Flatten())\n",
        "model.add(Dense(8))\n",
        "model.add(Activation('softmax'))\n",
        "opt = tf.keras.optimizers.Adam(learning_rate=0.001, decay=1e-6)"
      ],
      "execution_count": null,
      "outputs": []
    },
    {
      "cell_type": "code",
      "metadata": {
        "colab": {
          "base_uri": "https://localhost:8080/"
        },
        "id": "JJdjzgIk265L",
        "outputId": "f2e1e47b-a68b-4983-9827-39a9897134b6"
      },
      "source": [
        "model.summary()"
      ],
      "execution_count": null,
      "outputs": [
        {
          "output_type": "stream",
          "name": "stdout",
          "text": [
            "Model: \"sequential_11\"\n",
            "_________________________________________________________________\n",
            " Layer (type)                Output Shape              Param #   \n",
            "=================================================================\n",
            " conv1d_6 (Conv1D)           (None, 40, 128)           768       \n",
            "                                                                 \n",
            " activation_9 (Activation)   (None, 40, 128)           0         \n",
            "                                                                 \n",
            " dropout_23 (Dropout)        (None, 40, 128)           0         \n",
            "                                                                 \n",
            " max_pooling1d_3 (MaxPooling  (None, 5, 128)           0         \n",
            " 1D)                                                             \n",
            "                                                                 \n",
            " conv1d_7 (Conv1D)           (None, 5, 128)            82048     \n",
            "                                                                 \n",
            " activation_10 (Activation)  (None, 5, 128)            0         \n",
            "                                                                 \n",
            " dropout_24 (Dropout)        (None, 5, 128)            0         \n",
            "                                                                 \n",
            " flatten_11 (Flatten)        (None, 640)               0         \n",
            "                                                                 \n",
            " dense_34 (Dense)            (None, 8)                 5128      \n",
            "                                                                 \n",
            " activation_11 (Activation)  (None, 8)                 0         \n",
            "                                                                 \n",
            "=================================================================\n",
            "Total params: 87,944\n",
            "Trainable params: 87,944\n",
            "Non-trainable params: 0\n",
            "_________________________________________________________________\n"
          ]
        }
      ]
    },
    {
      "cell_type": "code",
      "metadata": {
        "id": "qO6dD-QY3OuA"
      },
      "source": [
        "model.compile(loss='sparse_categorical_crossentropy',\n",
        "              optimizer=opt,\n",
        "              metrics=['accuracy'])"
      ],
      "execution_count": null,
      "outputs": []
    },
    {
      "cell_type": "code",
      "metadata": {
        "colab": {
          "base_uri": "https://localhost:8080/",
          "height": 385
        },
        "id": "RejYVk743TTN",
        "outputId": "76ddd9f7-67bf-448e-c194-a192f76cc124"
      },
      "source": [
        "cnnhistory=model.fit(x_traincnn, y_train, batch_size=16, epochs=300, validation_data=(x_testcnn, y_test))"
      ],
      "execution_count": null,
      "outputs": [
        {
          "output_type": "error",
          "ename": "ValueError",
          "evalue": "ignored",
          "traceback": [
            "\u001b[0;31m---------------------------------------------------------------------------\u001b[0m",
            "\u001b[0;31mValueError\u001b[0m                                Traceback (most recent call last)",
            "\u001b[0;32m<ipython-input-117-a73ca551ed6f>\u001b[0m in \u001b[0;36m<module>\u001b[0;34m()\u001b[0m\n\u001b[0;32m----> 1\u001b[0;31m \u001b[0mcnnhistory\u001b[0m\u001b[0;34m=\u001b[0m\u001b[0mmodel\u001b[0m\u001b[0;34m.\u001b[0m\u001b[0mfit\u001b[0m\u001b[0;34m(\u001b[0m\u001b[0mx_traincnn\u001b[0m\u001b[0;34m,\u001b[0m \u001b[0my_train\u001b[0m\u001b[0;34m,\u001b[0m \u001b[0mbatch_size\u001b[0m\u001b[0;34m=\u001b[0m\u001b[0;36m16\u001b[0m\u001b[0;34m,\u001b[0m \u001b[0mepochs\u001b[0m\u001b[0;34m=\u001b[0m\u001b[0;36m300\u001b[0m\u001b[0;34m,\u001b[0m \u001b[0mvalidation_data\u001b[0m\u001b[0;34m=\u001b[0m\u001b[0;34m(\u001b[0m\u001b[0mx_testcnn\u001b[0m\u001b[0;34m,\u001b[0m \u001b[0my_test\u001b[0m\u001b[0;34m)\u001b[0m\u001b[0;34m)\u001b[0m\u001b[0;34m\u001b[0m\u001b[0;34m\u001b[0m\u001b[0m\n\u001b[0m",
            "\u001b[0;32m/usr/local/lib/python3.7/dist-packages/keras/utils/traceback_utils.py\u001b[0m in \u001b[0;36merror_handler\u001b[0;34m(*args, **kwargs)\u001b[0m\n\u001b[1;32m     65\u001b[0m     \u001b[0;32mexcept\u001b[0m \u001b[0mException\u001b[0m \u001b[0;32mas\u001b[0m \u001b[0me\u001b[0m\u001b[0;34m:\u001b[0m  \u001b[0;31m# pylint: disable=broad-except\u001b[0m\u001b[0;34m\u001b[0m\u001b[0;34m\u001b[0m\u001b[0m\n\u001b[1;32m     66\u001b[0m       \u001b[0mfiltered_tb\u001b[0m \u001b[0;34m=\u001b[0m \u001b[0m_process_traceback_frames\u001b[0m\u001b[0;34m(\u001b[0m\u001b[0me\u001b[0m\u001b[0;34m.\u001b[0m\u001b[0m__traceback__\u001b[0m\u001b[0;34m)\u001b[0m\u001b[0;34m\u001b[0m\u001b[0;34m\u001b[0m\u001b[0m\n\u001b[0;32m---> 67\u001b[0;31m       \u001b[0;32mraise\u001b[0m \u001b[0me\u001b[0m\u001b[0;34m.\u001b[0m\u001b[0mwith_traceback\u001b[0m\u001b[0;34m(\u001b[0m\u001b[0mfiltered_tb\u001b[0m\u001b[0;34m)\u001b[0m \u001b[0;32mfrom\u001b[0m \u001b[0;32mNone\u001b[0m\u001b[0;34m\u001b[0m\u001b[0;34m\u001b[0m\u001b[0m\n\u001b[0m\u001b[1;32m     68\u001b[0m     \u001b[0;32mfinally\u001b[0m\u001b[0;34m:\u001b[0m\u001b[0;34m\u001b[0m\u001b[0;34m\u001b[0m\u001b[0m\n\u001b[1;32m     69\u001b[0m       \u001b[0;32mdel\u001b[0m \u001b[0mfiltered_tb\u001b[0m\u001b[0;34m\u001b[0m\u001b[0;34m\u001b[0m\u001b[0m\n",
            "\u001b[0;32m/usr/local/lib/python3.7/dist-packages/keras/engine/data_adapter.py\u001b[0m in \u001b[0;36m_check_data_cardinality\u001b[0;34m(data)\u001b[0m\n\u001b[1;32m   1655\u001b[0m                            for i in tf.nest.flatten(single_data)))\n\u001b[1;32m   1656\u001b[0m     \u001b[0mmsg\u001b[0m \u001b[0;34m+=\u001b[0m \u001b[0;34m\"Make sure all arrays contain the same number of samples.\"\u001b[0m\u001b[0;34m\u001b[0m\u001b[0;34m\u001b[0m\u001b[0m\n\u001b[0;32m-> 1657\u001b[0;31m     \u001b[0;32mraise\u001b[0m \u001b[0mValueError\u001b[0m\u001b[0;34m(\u001b[0m\u001b[0mmsg\u001b[0m\u001b[0;34m)\u001b[0m\u001b[0;34m\u001b[0m\u001b[0;34m\u001b[0m\u001b[0m\n\u001b[0m\u001b[1;32m   1658\u001b[0m \u001b[0;34m\u001b[0m\u001b[0m\n\u001b[1;32m   1659\u001b[0m \u001b[0;34m\u001b[0m\u001b[0m\n",
            "\u001b[0;31mValueError\u001b[0m: Data cardinality is ambiguous:\n  x sizes: 1152\n  y sizes: 1296\nMake sure all arrays contain the same number of samples."
          ]
        }
      ]
    },
    {
      "cell_type": "code",
      "metadata": {
        "colab": {
          "base_uri": "https://localhost:8080/",
          "height": 458
        },
        "id": "ewQAiUy-6geS",
        "outputId": "beb8f16d-4048-47e7-fb81-0697b22c2006"
      },
      "source": [
        "plt.figure(figsize=(10,7))\n",
        "plt.plot(cnnhistory.history['loss'])\n",
        "plt.plot(cnnhistory.history['val_loss'])\n",
        "plt.title('model loss')\n",
        "plt.ylabel('loss')\n",
        "plt.xlabel('epoch')\n",
        "plt.legend(['train', 'test'], loc='upper left')\n",
        "plt.show()\n",
        "\n"
      ],
      "execution_count": null,
      "outputs": [
        {
          "output_type": "display_data",
          "data": {
            "image/png": "[encoded data removed]",
            "text/plain": [
              "<Figure size 720x504 with 1 Axes>"
            ]
          },
          "metadata": {
            "needs_background": "light"
          }
        }
      ]
    },
    {
      "cell_type": "code",
      "metadata": {
        "colab": {
          "base_uri": "https://localhost:8080/",
          "height": 458
        },
        "id": "pgyqQoox6sIM",
        "outputId": "5e6be33e-0403-4a5c-b180-a13b214b12c3"
      },
      "source": [
        "plt.figure(figsize=(10,7))\n",
        "plt.plot(cnnhistory.history['accuracy'])\n",
        "plt.plot(cnnhistory.history['val_accuracy'])\n",
        "plt.title('model accuracy')\n",
        "plt.ylabel('accuracy')\n",
        "plt.xlabel('epoch')\n",
        "plt.legend(['train', 'test'], loc='upper left')\n",
        "plt.show()\n",
        "\n",
        "#56.6\n"
      ],
      "execution_count": null,
      "outputs": [
        {
          "output_type": "display_data",
          "data": {
            "image/png": "[encoded data removed]",
            "text/plain": [
              "<Figure size 720x504 with 1 Axes>"
            ]
          },
          "metadata": {
            "needs_background": "light"
          }
        }
      ]
    },
    {
      "cell_type": "code",
      "metadata": {
        "id": "_vBqHckc-_n-"
      },
      "source": [
        "from tensorflow.keras.layers import GRU\n",
        "\n",
        "model = Sequential()\n",
        "model.add(GRU(90, return_sequences=True,dropout=0.2, input_shape=(40, 1)))\n",
        "model.add(GRU(60,dropout=0.2, return_sequences=True))\n",
        "model.add(Flatten())\n",
        "model.add(Dense(60))\n",
        "model.add(Dropout(0.2))\n",
        "model.add(Dense(30))\n",
        "model.add(Dropout(0.2))\n",
        "model.add(Dense(8, activation='softmax'))\n",
        "\n",
        "opt = tf.keras.optimizers.Adam(learning_rate=0.001, decay=1e-6)"
      ],
      "execution_count": null,
      "outputs": []
    },
    {
      "cell_type": "code",
      "metadata": {
        "id": "7zEuFpjw_j_j"
      },
      "source": [
        "from keras.callbacks import EarlyStopping\n",
        "model.compile(loss='sparse_categorical_crossentropy',\n",
        "              optimizer=opt,\n",
        "              metrics=['accuracy'])\n",
        "es = EarlyStopping(monitor = 'val_loss', mode = 'min', verbose = 1)"
      ],
      "execution_count": null,
      "outputs": []
    },
    {
      "cell_type": "code",
      "metadata": {
        "colab": {
          "base_uri": "https://localhost:8080/"
        },
        "id": "61MYDXC9_n4c",
        "outputId": "8c1db793-fdad-475e-b9cf-b0f1c7315908"
      },
      "source": [
        "cnnhistory=model.fit(x_traincnn, y_train, batch_size=16, epochs=100, validation_data=(x_testcnn, y_test))"
      ],
      "execution_count": null,
      "outputs": [
        {
          "output_type": "stream",
          "name": "stdout",
          "text": [
            "Epoch 1/100\n",
            "72/72 [==============================] - 6s 42ms/step - loss: 2.0590 - accuracy: 0.2161 - val_loss: 1.9554 - val_accuracy: 0.2257\n",
            "Epoch 2/100\n",
            "72/72 [==============================] - 2s 27ms/step - loss: 1.9178 - accuracy: 0.2656 - val_loss: 1.9115 - val_accuracy: 0.3056\n",
            "Epoch 3/100\n",
            "72/72 [==============================] - 2s 27ms/step - loss: 1.8734 - accuracy: 0.2648 - val_loss: 1.8704 - val_accuracy: 0.2361\n",
            "Epoch 4/100\n",
            "72/72 [==============================] - 2s 27ms/step - loss: 1.8378 - accuracy: 0.3021 - val_loss: 1.8660 - val_accuracy: 0.3160\n",
            "Epoch 5/100\n",
            "72/72 [==============================] - 2s 26ms/step - loss: 1.8043 - accuracy: 0.3160 - val_loss: 1.8642 - val_accuracy: 0.2917\n",
            "Epoch 6/100\n",
            "72/72 [==============================] - 2s 27ms/step - loss: 1.7638 - accuracy: 0.3255 - val_loss: 1.8483 - val_accuracy: 0.3056\n",
            "Epoch 7/100\n",
            "72/72 [==============================] - 2s 27ms/step - loss: 1.7520 - accuracy: 0.3490 - val_loss: 1.7386 - val_accuracy: 0.3889\n",
            "Epoch 8/100\n",
            "72/72 [==============================] - 2s 27ms/step - loss: 1.7325 - accuracy: 0.3602 - val_loss: 1.7425 - val_accuracy: 0.3403\n",
            "Epoch 9/100\n",
            "72/72 [==============================] - 2s 27ms/step - loss: 1.7478 - accuracy: 0.3420 - val_loss: 1.6961 - val_accuracy: 0.3819\n",
            "Epoch 10/100\n",
            "72/72 [==============================] - 2s 27ms/step - loss: 1.6945 - accuracy: 0.3672 - val_loss: 1.8258 - val_accuracy: 0.3125\n",
            "Epoch 11/100\n",
            "72/72 [==============================] - 2s 27ms/step - loss: 1.6701 - accuracy: 0.3663 - val_loss: 1.7412 - val_accuracy: 0.3646\n",
            "Epoch 12/100\n",
            "72/72 [==============================] - 2s 27ms/step - loss: 1.6640 - accuracy: 0.3776 - val_loss: 1.7199 - val_accuracy: 0.3819\n",
            "Epoch 13/100\n",
            "72/72 [==============================] - 2s 26ms/step - loss: 1.6632 - accuracy: 0.3767 - val_loss: 1.6424 - val_accuracy: 0.4201\n",
            "Epoch 14/100\n",
            "72/72 [==============================] - 2s 27ms/step - loss: 1.6427 - accuracy: 0.3776 - val_loss: 1.6912 - val_accuracy: 0.3611\n",
            "Epoch 15/100\n",
            "72/72 [==============================] - 2s 27ms/step - loss: 1.6331 - accuracy: 0.3715 - val_loss: 1.7014 - val_accuracy: 0.4167\n",
            "Epoch 16/100\n",
            "72/72 [==============================] - 2s 27ms/step - loss: 1.5986 - accuracy: 0.3976 - val_loss: 1.6770 - val_accuracy: 0.3889\n",
            "Epoch 17/100\n",
            "72/72 [==============================] - 2s 27ms/step - loss: 1.5767 - accuracy: 0.4089 - val_loss: 1.6474 - val_accuracy: 0.3958\n",
            "Epoch 18/100\n",
            "72/72 [==============================] - 2s 27ms/step - loss: 1.5581 - accuracy: 0.4201 - val_loss: 1.6249 - val_accuracy: 0.3889\n",
            "Epoch 19/100\n",
            "72/72 [==============================] - 2s 27ms/step - loss: 1.5820 - accuracy: 0.4019 - val_loss: 1.6678 - val_accuracy: 0.3611\n",
            "Epoch 20/100\n",
            "72/72 [==============================] - 2s 26ms/step - loss: 1.6172 - accuracy: 0.3741 - val_loss: 1.6121 - val_accuracy: 0.3958\n",
            "Epoch 21/100\n",
            "72/72 [==============================] - 2s 27ms/step - loss: 1.5827 - accuracy: 0.3889 - val_loss: 1.5797 - val_accuracy: 0.4271\n",
            "Epoch 22/100\n",
            "72/72 [==============================] - 2s 27ms/step - loss: 1.5417 - accuracy: 0.4123 - val_loss: 1.6115 - val_accuracy: 0.4271\n",
            "Epoch 23/100\n",
            "72/72 [==============================] - 2s 27ms/step - loss: 1.5197 - accuracy: 0.4280 - val_loss: 1.5919 - val_accuracy: 0.4444\n",
            "Epoch 24/100\n",
            "72/72 [==============================] - 2s 27ms/step - loss: 1.5404 - accuracy: 0.4193 - val_loss: 1.5960 - val_accuracy: 0.4132\n",
            "Epoch 25/100\n",
            "72/72 [==============================] - 2s 27ms/step - loss: 1.5192 - accuracy: 0.4236 - val_loss: 1.6221 - val_accuracy: 0.4132\n",
            "Epoch 26/100\n",
            "72/72 [==============================] - 2s 27ms/step - loss: 1.4817 - accuracy: 0.4410 - val_loss: 1.5518 - val_accuracy: 0.4444\n",
            "Epoch 27/100\n",
            "72/72 [==============================] - 2s 27ms/step - loss: 1.4812 - accuracy: 0.4575 - val_loss: 1.5882 - val_accuracy: 0.4132\n",
            "Epoch 28/100\n",
            "72/72 [==============================] - 2s 27ms/step - loss: 1.4606 - accuracy: 0.4609 - val_loss: 1.5770 - val_accuracy: 0.4375\n",
            "Epoch 29/100\n",
            "72/72 [==============================] - 2s 27ms/step - loss: 1.4690 - accuracy: 0.4627 - val_loss: 1.5652 - val_accuracy: 0.3993\n",
            "Epoch 30/100\n",
            "72/72 [==============================] - 2s 27ms/step - loss: 1.4289 - accuracy: 0.4852 - val_loss: 1.5539 - val_accuracy: 0.4444\n",
            "Epoch 31/100\n",
            "72/72 [==============================] - 2s 27ms/step - loss: 1.3901 - accuracy: 0.4809 - val_loss: 1.5555 - val_accuracy: 0.4236\n",
            "Epoch 32/100\n",
            "72/72 [==============================] - 2s 27ms/step - loss: 1.4359 - accuracy: 0.4601 - val_loss: 1.5672 - val_accuracy: 0.4340\n",
            "Epoch 33/100\n",
            "72/72 [==============================] - 2s 27ms/step - loss: 1.4190 - accuracy: 0.4852 - val_loss: 1.5925 - val_accuracy: 0.4271\n",
            "Epoch 34/100\n",
            "72/72 [==============================] - 2s 27ms/step - loss: 1.3718 - accuracy: 0.4627 - val_loss: 1.5240 - val_accuracy: 0.4306\n",
            "Epoch 35/100\n",
            "72/72 [==============================] - 2s 27ms/step - loss: 1.3667 - accuracy: 0.4939 - val_loss: 1.5134 - val_accuracy: 0.4757\n",
            "Epoch 36/100\n",
            "72/72 [==============================] - 2s 27ms/step - loss: 1.3802 - accuracy: 0.5026 - val_loss: 1.5966 - val_accuracy: 0.4340\n",
            "Epoch 37/100\n",
            "72/72 [==============================] - 2s 27ms/step - loss: 1.3711 - accuracy: 0.5009 - val_loss: 1.6225 - val_accuracy: 0.4028\n",
            "Epoch 38/100\n",
            "72/72 [==============================] - 2s 28ms/step - loss: 1.3131 - accuracy: 0.5043 - val_loss: 1.5193 - val_accuracy: 0.4340\n",
            "Epoch 39/100\n",
            "72/72 [==============================] - 2s 27ms/step - loss: 1.3521 - accuracy: 0.4939 - val_loss: 1.5380 - val_accuracy: 0.4861\n",
            "Epoch 40/100\n",
            "72/72 [==============================] - 2s 28ms/step - loss: 1.3587 - accuracy: 0.5095 - val_loss: 1.5074 - val_accuracy: 0.4618\n",
            "Epoch 41/100\n",
            "72/72 [==============================] - 2s 27ms/step - loss: 1.3203 - accuracy: 0.5208 - val_loss: 1.4832 - val_accuracy: 0.4653\n",
            "Epoch 42/100\n",
            "72/72 [==============================] - 2s 27ms/step - loss: 1.2936 - accuracy: 0.5078 - val_loss: 1.5162 - val_accuracy: 0.4688\n",
            "Epoch 43/100\n",
            "72/72 [==============================] - 2s 27ms/step - loss: 1.2963 - accuracy: 0.5286 - val_loss: 1.6145 - val_accuracy: 0.4097\n",
            "Epoch 44/100\n",
            "72/72 [==============================] - 2s 27ms/step - loss: 1.3273 - accuracy: 0.5200 - val_loss: 1.4838 - val_accuracy: 0.4722\n",
            "Epoch 45/100\n",
            "72/72 [==============================] - 2s 27ms/step - loss: 1.2498 - accuracy: 0.5399 - val_loss: 1.4861 - val_accuracy: 0.4792\n",
            "Epoch 46/100\n",
            "72/72 [==============================] - 2s 27ms/step - loss: 1.2551 - accuracy: 0.5590 - val_loss: 1.4785 - val_accuracy: 0.4861\n",
            "Epoch 47/100\n",
            "72/72 [==============================] - 2s 27ms/step - loss: 1.2170 - accuracy: 0.5443 - val_loss: 1.5679 - val_accuracy: 0.4514\n",
            "Epoch 48/100\n",
            "72/72 [==============================] - 2s 27ms/step - loss: 1.2063 - accuracy: 0.5642 - val_loss: 1.5468 - val_accuracy: 0.4618\n",
            "Epoch 49/100\n",
            "72/72 [==============================] - 2s 27ms/step - loss: 1.2019 - accuracy: 0.5573 - val_loss: 1.4485 - val_accuracy: 0.4757\n",
            "Epoch 50/100\n",
            "72/72 [==============================] - 2s 27ms/step - loss: 1.2168 - accuracy: 0.5599 - val_loss: 1.4926 - val_accuracy: 0.4826\n",
            "Epoch 51/100\n",
            "72/72 [==============================] - 2s 27ms/step - loss: 1.2191 - accuracy: 0.5460 - val_loss: 1.4767 - val_accuracy: 0.4931\n",
            "Epoch 52/100\n",
            "72/72 [==============================] - 2s 27ms/step - loss: 1.1848 - accuracy: 0.5703 - val_loss: 1.4320 - val_accuracy: 0.5208\n",
            "Epoch 53/100\n",
            "72/72 [==============================] - 2s 27ms/step - loss: 1.1803 - accuracy: 0.5859 - val_loss: 1.5910 - val_accuracy: 0.4410\n",
            "Epoch 54/100\n",
            "72/72 [==============================] - 2s 27ms/step - loss: 1.1123 - accuracy: 0.5955 - val_loss: 1.4720 - val_accuracy: 0.4757\n",
            "Epoch 55/100\n",
            "72/72 [==============================] - 2s 28ms/step - loss: 1.1647 - accuracy: 0.5764 - val_loss: 1.4723 - val_accuracy: 0.4826\n",
            "Epoch 56/100\n",
            "72/72 [==============================] - 2s 27ms/step - loss: 1.1669 - accuracy: 0.5833 - val_loss: 1.5726 - val_accuracy: 0.4722\n",
            "Epoch 57/100\n",
            "72/72 [==============================] - 2s 27ms/step - loss: 1.1402 - accuracy: 0.5877 - val_loss: 1.4945 - val_accuracy: 0.4826\n",
            "Epoch 58/100\n",
            "72/72 [==============================] - 2s 27ms/step - loss: 1.0850 - accuracy: 0.6207 - val_loss: 1.4738 - val_accuracy: 0.4931\n",
            "Epoch 59/100\n",
            "72/72 [==============================] - 2s 27ms/step - loss: 1.1019 - accuracy: 0.5911 - val_loss: 1.5545 - val_accuracy: 0.4896\n",
            "Epoch 60/100\n",
            "72/72 [==============================] - 2s 26ms/step - loss: 1.0953 - accuracy: 0.6050 - val_loss: 1.5614 - val_accuracy: 0.4931\n",
            "Epoch 61/100\n",
            "72/72 [==============================] - 2s 27ms/step - loss: 1.1170 - accuracy: 0.5938 - val_loss: 1.5268 - val_accuracy: 0.5069\n",
            "Epoch 62/100\n",
            "72/72 [==============================] - 2s 27ms/step - loss: 1.0942 - accuracy: 0.6120 - val_loss: 1.6858 - val_accuracy: 0.4444\n",
            "Epoch 00062: early stopping\n"
          ]
        }
      ]
    },
    {
      "cell_type": "code",
      "metadata": {
        "colab": {
          "base_uri": "https://localhost:8080/"
        },
        "id": "hyoGdTD0_AA9",
        "outputId": "bab410a4-394c-4788-f109-77f75a6c840f"
      },
      "source": [
        "model.summary()"
      ],
      "execution_count": null,
      "outputs": [
        {
          "output_type": "stream",
          "name": "stdout",
          "text": [
            "Model: \"sequential_6\"\n",
            "_________________________________________________________________\n",
            " Layer (type)                Output Shape              Param #   \n",
            "=================================================================\n",
            " gru_8 (GRU)                 (None, 40, 90)            25110     \n",
            "                                                                 \n",
            " gru_9 (GRU)                 (None, 40, 60)            27360     \n",
            "                                                                 \n",
            " flatten_6 (Flatten)         (None, 2400)              0         \n",
            "                                                                 \n",
            " dense_16 (Dense)            (None, 60)                144060    \n",
            "                                                                 \n",
            " dropout_12 (Dropout)        (None, 60)                0         \n",
            "                                                                 \n",
            " dense_17 (Dense)            (None, 30)                1830      \n",
            "                                                                 \n",
            " dropout_13 (Dropout)        (None, 30)                0         \n",
            "                                                                 \n",
            " dense_18 (Dense)            (None, 8)                 248       \n",
            "                                                                 \n",
            "=================================================================\n",
            "Total params: 198,608\n",
            "Trainable params: 198,608\n",
            "Non-trainable params: 0\n",
            "_________________________________________________________________\n"
          ]
        }
      ]
    },
    {
      "cell_type": "code",
      "metadata": {
        "id": "jrxByywP_AA_"
      },
      "source": [
        "model.compile(loss='sparse_categorical_crossentropy',\n",
        "              optimizer=opt,\n",
        "              metrics=['accuracy'])"
      ],
      "execution_count": null,
      "outputs": []
    },
    {
      "cell_type": "code",
      "metadata": {
        "colab": {
          "base_uri": "https://localhost:8080/",
          "height": 458
        },
        "id": "aMngASUP_ABD",
        "outputId": "72a15bd3-0663-4e8f-b18a-1ca9c3ecc558"
      },
      "source": [
        "plt.figure(figsize=(10,7))\n",
        "plt.plot(cnnhistory.history['loss'])\n",
        "plt.plot(cnnhistory.history['val_loss'])\n",
        "plt.title('model loss')\n",
        "plt.ylabel('loss')\n",
        "plt.xlabel('epoch')\n",
        "plt.legend(['train', 'test'], loc='upper left')\n",
        "plt.show()\n",
        "\n"
      ],
      "execution_count": null,
      "outputs": [
        {
          "output_type": "display_data",
          "data": {
            "image/png": "[encoded data removed]",
            "text/plain": [
              "<Figure size 720x504 with 1 Axes>"
            ]
          },
          "metadata": {
            "needs_background": "light"
          }
        }
      ]
    },
    {
      "cell_type": "code",
      "source": [
        "plt.figure(figsize=(10,7))\n",
        "plt.plot(cnnhistory.history['accuracy'])\n",
        "plt.plot(cnnhistory.history['val_accuracy'])\n",
        "plt.title('model accuracy')\n",
        "plt.ylabel('accuracy')\n",
        "plt.xlabel('epoch')\n",
        "plt.legend(['train', 'test'], loc='upper left')\n",
        "plt.show()"
      ],
      "metadata": {
        "colab": {
          "base_uri": "https://localhost:8080/",
          "height": 458
        },
        "id": "YLoqi9RBzrDK",
        "outputId": "9757ab30-a4a2-4d68-afe7-761def45de13"
      },
      "execution_count": null,
      "outputs": [
        {
          "output_type": "display_data",
          "data": {
            "image/png": "[encoded data removed]",
            "text/plain": [
              "<Figure size 720x504 with 1 Axes>"
            ]
          },
          "metadata": {
            "needs_background": "light"
          }
        }
      ]
    },
    {
      "cell_type": "code",
      "metadata": {
        "id": "DYzc0l1PEdaB"
      },
      "source": [
        "from tensorflow.keras.layers import LSTM\n",
        "\n",
        "model = Sequential()\n",
        "model.add(LSTM(90, return_sequences=True,dropout=0.2, input_shape=(40, 1)))\n",
        "model.add(LSTM(60,dropout=0.2, return_sequences=True))\n",
        "model.add(Flatten())\n",
        "model.add(Dense(60))\n",
        "model.add(Dropout(0.2))\n",
        "model.add(Dense(30))\n",
        "model.add(Dropout(0.2))\n",
        "model.add(Dense(8, activation='softmax'))\n",
        "\n",
        "opt = tf.keras.optimizers.Adam(learning_rate=0.001, decay=1e-6)"
      ],
      "execution_count": null,
      "outputs": []
    },
    {
      "cell_type": "code",
      "metadata": {
        "id": "_IO8S71HKyG8"
      },
      "source": [
        "model.compile(loss='sparse_categorical_crossentropy',\n",
        "              optimizer=opt,\n",
        "              metrics=['accuracy'])"
      ],
      "execution_count": null,
      "outputs": []
    },
    {
      "cell_type": "code",
      "metadata": {
        "colab": {
          "base_uri": "https://localhost:8080/"
        },
        "id": "b42YTRQDKyG-",
        "outputId": "6c1956e8-0ec4-4dd2-d448-237e3aa92892"
      },
      "source": [
        "cnnhistory=model.fit(x_traincnn, y_train, batch_size=16, epochs=200, validation_data=(x_testcnn, y_test))"
      ],
      "execution_count": null,
      "outputs": [
        {
          "output_type": "stream",
          "name": "stdout",
          "text": [
            "Epoch 1/200\n",
            "72/72 [==============================] - 6s 42ms/step - loss: 2.0065 - accuracy: 0.2135 - val_loss: 1.9491 - val_accuracy: 0.2535\n",
            "Epoch 2/200\n",
            "72/72 [==============================] - 2s 26ms/step - loss: 1.8734 - accuracy: 0.2717 - val_loss: 1.8970 - val_accuracy: 0.2847\n",
            "Epoch 3/200\n",
            "72/72 [==============================] - 2s 26ms/step - loss: 1.8896 - accuracy: 0.2708 - val_loss: 1.8997 - val_accuracy: 0.2535\n",
            "Epoch 4/200\n",
            "72/72 [==============================] - 2s 26ms/step - loss: 1.8508 - accuracy: 0.2882 - val_loss: 1.8046 - val_accuracy: 0.2917\n",
            "Epoch 5/200\n",
            "72/72 [==============================] - 2s 26ms/step - loss: 1.7978 - accuracy: 0.3056 - val_loss: 1.8368 - val_accuracy: 0.2951\n",
            "Epoch 6/200\n",
            "72/72 [==============================] - 2s 27ms/step - loss: 1.7837 - accuracy: 0.3151 - val_loss: 1.7976 - val_accuracy: 0.3160\n",
            "Epoch 7/200\n",
            "72/72 [==============================] - 2s 27ms/step - loss: 1.7700 - accuracy: 0.3220 - val_loss: 1.7673 - val_accuracy: 0.3229\n",
            "Epoch 8/200\n",
            "72/72 [==============================] - 2s 27ms/step - loss: 1.7470 - accuracy: 0.3429 - val_loss: 1.7782 - val_accuracy: 0.3299\n",
            "Epoch 9/200\n",
            "72/72 [==============================] - 2s 27ms/step - loss: 1.7021 - accuracy: 0.3628 - val_loss: 1.7040 - val_accuracy: 0.3958\n",
            "Epoch 10/200\n",
            "72/72 [==============================] - 2s 26ms/step - loss: 1.7364 - accuracy: 0.3403 - val_loss: 1.7377 - val_accuracy: 0.3368\n",
            "Epoch 11/200\n",
            "72/72 [==============================] - 2s 27ms/step - loss: 1.6866 - accuracy: 0.3759 - val_loss: 1.6722 - val_accuracy: 0.3785\n",
            "Epoch 12/200\n",
            "72/72 [==============================] - 2s 26ms/step - loss: 1.6698 - accuracy: 0.3628 - val_loss: 1.6797 - val_accuracy: 0.3924\n",
            "Epoch 13/200\n",
            "72/72 [==============================] - 2s 26ms/step - loss: 1.6570 - accuracy: 0.3733 - val_loss: 1.6576 - val_accuracy: 0.3889\n",
            "Epoch 14/200\n",
            "72/72 [==============================] - 2s 26ms/step - loss: 1.6245 - accuracy: 0.3880 - val_loss: 1.6483 - val_accuracy: 0.3715\n",
            "Epoch 15/200\n",
            "72/72 [==============================] - 2s 26ms/step - loss: 1.6269 - accuracy: 0.3681 - val_loss: 1.6588 - val_accuracy: 0.3681\n",
            "Epoch 16/200\n",
            "72/72 [==============================] - 2s 26ms/step - loss: 1.6079 - accuracy: 0.3984 - val_loss: 1.6255 - val_accuracy: 0.3646\n",
            "Epoch 17/200\n",
            "72/72 [==============================] - 2s 26ms/step - loss: 1.5670 - accuracy: 0.4054 - val_loss: 1.6286 - val_accuracy: 0.3715\n",
            "Epoch 18/200\n",
            "72/72 [==============================] - 2s 27ms/step - loss: 1.5856 - accuracy: 0.4132 - val_loss: 1.6705 - val_accuracy: 0.3750\n",
            "Epoch 19/200\n",
            "72/72 [==============================] - 2s 26ms/step - loss: 1.5209 - accuracy: 0.4236 - val_loss: 1.5546 - val_accuracy: 0.4236\n",
            "Epoch 20/200\n",
            "72/72 [==============================] - 2s 27ms/step - loss: 1.5478 - accuracy: 0.4253 - val_loss: 1.5489 - val_accuracy: 0.4271\n",
            "Epoch 21/200\n",
            "72/72 [==============================] - 2s 27ms/step - loss: 1.5095 - accuracy: 0.4227 - val_loss: 1.5391 - val_accuracy: 0.4201\n",
            "Epoch 22/200\n",
            "72/72 [==============================] - 2s 28ms/step - loss: 1.5484 - accuracy: 0.4132 - val_loss: 1.6030 - val_accuracy: 0.3958\n",
            "Epoch 23/200\n",
            "72/72 [==============================] - 2s 27ms/step - loss: 1.4986 - accuracy: 0.4375 - val_loss: 1.6527 - val_accuracy: 0.3611\n",
            "Epoch 24/200\n",
            "72/72 [==============================] - 2s 27ms/step - loss: 1.4990 - accuracy: 0.4497 - val_loss: 1.6043 - val_accuracy: 0.4028\n",
            "Epoch 25/200\n",
            "72/72 [==============================] - 2s 26ms/step - loss: 1.4702 - accuracy: 0.4557 - val_loss: 1.5896 - val_accuracy: 0.4097\n",
            "Epoch 26/200\n",
            "72/72 [==============================] - 2s 27ms/step - loss: 1.4529 - accuracy: 0.4670 - val_loss: 1.5016 - val_accuracy: 0.4236\n",
            "Epoch 27/200\n",
            "72/72 [==============================] - 2s 27ms/step - loss: 1.4496 - accuracy: 0.4609 - val_loss: 1.5987 - val_accuracy: 0.4410\n",
            "Epoch 28/200\n",
            "72/72 [==============================] - 2s 27ms/step - loss: 1.4267 - accuracy: 0.4740 - val_loss: 1.5286 - val_accuracy: 0.4549\n",
            "Epoch 29/200\n",
            "72/72 [==============================] - 2s 26ms/step - loss: 1.4045 - accuracy: 0.4896 - val_loss: 1.5134 - val_accuracy: 0.4410\n",
            "Epoch 30/200\n",
            "72/72 [==============================] - 2s 26ms/step - loss: 1.4201 - accuracy: 0.4688 - val_loss: 1.6086 - val_accuracy: 0.3889\n",
            "Epoch 31/200\n",
            "72/72 [==============================] - 2s 27ms/step - loss: 1.3626 - accuracy: 0.4939 - val_loss: 1.4770 - val_accuracy: 0.4722\n",
            "Epoch 32/200\n",
            "72/72 [==============================] - 2s 27ms/step - loss: 1.3814 - accuracy: 0.5000 - val_loss: 1.5461 - val_accuracy: 0.4375\n",
            "Epoch 33/200\n",
            "72/72 [==============================] - 2s 27ms/step - loss: 1.3575 - accuracy: 0.4965 - val_loss: 1.4434 - val_accuracy: 0.4618\n",
            "Epoch 34/200\n",
            "72/72 [==============================] - 2s 27ms/step - loss: 1.3455 - accuracy: 0.4948 - val_loss: 1.5031 - val_accuracy: 0.4618\n",
            "Epoch 35/200\n",
            "72/72 [==============================] - 2s 27ms/step - loss: 1.3512 - accuracy: 0.4835 - val_loss: 1.4761 - val_accuracy: 0.4514\n",
            "Epoch 36/200\n",
            "72/72 [==============================] - 2s 26ms/step - loss: 1.3110 - accuracy: 0.5182 - val_loss: 1.4684 - val_accuracy: 0.5035\n",
            "Epoch 37/200\n",
            "72/72 [==============================] - 2s 27ms/step - loss: 1.3276 - accuracy: 0.4957 - val_loss: 1.5625 - val_accuracy: 0.4340\n",
            "Epoch 38/200\n",
            "72/72 [==============================] - 2s 26ms/step - loss: 1.2710 - accuracy: 0.5226 - val_loss: 1.5347 - val_accuracy: 0.4514\n",
            "Epoch 39/200\n",
            "72/72 [==============================] - 2s 27ms/step - loss: 1.2839 - accuracy: 0.5139 - val_loss: 1.5136 - val_accuracy: 0.4653\n",
            "Epoch 40/200\n",
            "72/72 [==============================] - 2s 26ms/step - loss: 1.2321 - accuracy: 0.5260 - val_loss: 1.5630 - val_accuracy: 0.4549\n",
            "Epoch 41/200\n",
            "72/72 [==============================] - 2s 27ms/step - loss: 1.2301 - accuracy: 0.5417 - val_loss: 1.4966 - val_accuracy: 0.4722\n",
            "Epoch 42/200\n",
            "72/72 [==============================] - 2s 27ms/step - loss: 1.2040 - accuracy: 0.5642 - val_loss: 1.4930 - val_accuracy: 0.4514\n",
            "Epoch 43/200\n",
            "72/72 [==============================] - 2s 26ms/step - loss: 1.2382 - accuracy: 0.5451 - val_loss: 1.5347 - val_accuracy: 0.4583\n",
            "Epoch 44/200\n",
            "72/72 [==============================] - 2s 26ms/step - loss: 1.1568 - accuracy: 0.5729 - val_loss: 1.4426 - val_accuracy: 0.4861\n",
            "Epoch 45/200\n",
            "72/72 [==============================] - 2s 27ms/step - loss: 1.2072 - accuracy: 0.5477 - val_loss: 1.4867 - val_accuracy: 0.4931\n",
            "Epoch 46/200\n",
            "72/72 [==============================] - 2s 26ms/step - loss: 1.1927 - accuracy: 0.5521 - val_loss: 1.5617 - val_accuracy: 0.4688\n",
            "Epoch 47/200\n",
            "72/72 [==============================] - 2s 26ms/step - loss: 1.1023 - accuracy: 0.6033 - val_loss: 1.5074 - val_accuracy: 0.4861\n",
            "Epoch 48/200\n",
            "72/72 [==============================] - 2s 26ms/step - loss: 1.1253 - accuracy: 0.5885 - val_loss: 1.5733 - val_accuracy: 0.4549\n",
            "Epoch 49/200\n",
            "72/72 [==============================] - 2s 26ms/step - loss: 1.0781 - accuracy: 0.6068 - val_loss: 1.5046 - val_accuracy: 0.4653\n",
            "Epoch 50/200\n",
            "72/72 [==============================] - 2s 27ms/step - loss: 1.1120 - accuracy: 0.5920 - val_loss: 1.5421 - val_accuracy: 0.4653\n",
            "Epoch 51/200\n",
            "72/72 [==============================] - 2s 27ms/step - loss: 1.1063 - accuracy: 0.5825 - val_loss: 1.4344 - val_accuracy: 0.4826\n",
            "Epoch 52/200\n",
            "72/72 [==============================] - 2s 27ms/step - loss: 1.0803 - accuracy: 0.6111 - val_loss: 1.4681 - val_accuracy: 0.4861\n",
            "Epoch 53/200\n",
            "72/72 [==============================] - 2s 27ms/step - loss: 1.0457 - accuracy: 0.6337 - val_loss: 1.3573 - val_accuracy: 0.5208\n",
            "Epoch 54/200\n",
            "72/72 [==============================] - 2s 27ms/step - loss: 1.0315 - accuracy: 0.6302 - val_loss: 1.4919 - val_accuracy: 0.5139\n",
            "Epoch 55/200\n",
            "72/72 [==============================] - 2s 26ms/step - loss: 1.0763 - accuracy: 0.6224 - val_loss: 1.4999 - val_accuracy: 0.4965\n",
            "Epoch 56/200\n",
            "72/72 [==============================] - 2s 27ms/step - loss: 0.9944 - accuracy: 0.6380 - val_loss: 1.4914 - val_accuracy: 0.4931\n",
            "Epoch 57/200\n",
            "72/72 [==============================] - 2s 27ms/step - loss: 0.9741 - accuracy: 0.6363 - val_loss: 1.6787 - val_accuracy: 0.4549\n",
            "Epoch 58/200\n",
            "72/72 [==============================] - 2s 28ms/step - loss: 0.9536 - accuracy: 0.6467 - val_loss: 1.5281 - val_accuracy: 0.5035\n",
            "Epoch 59/200\n",
            "72/72 [==============================] - 2s 27ms/step - loss: 0.9649 - accuracy: 0.6736 - val_loss: 1.5695 - val_accuracy: 0.4653\n",
            "Epoch 60/200\n",
            "72/72 [==============================] - 2s 27ms/step - loss: 0.9331 - accuracy: 0.6762 - val_loss: 1.6827 - val_accuracy: 0.4722\n",
            "Epoch 61/200\n",
            "72/72 [==============================] - 2s 27ms/step - loss: 0.9018 - accuracy: 0.6771 - val_loss: 1.4330 - val_accuracy: 0.5069\n",
            "Epoch 62/200\n",
            "72/72 [==============================] - 2s 27ms/step - loss: 0.9402 - accuracy: 0.6641 - val_loss: 1.6321 - val_accuracy: 0.4792\n",
            "Epoch 63/200\n",
            "72/72 [==============================] - 2s 27ms/step - loss: 0.8572 - accuracy: 0.6962 - val_loss: 1.5863 - val_accuracy: 0.5104\n",
            "Epoch 64/200\n",
            "72/72 [==============================] - 2s 26ms/step - loss: 0.8475 - accuracy: 0.6970 - val_loss: 1.5616 - val_accuracy: 0.4757\n",
            "Epoch 65/200\n",
            "72/72 [==============================] - 2s 27ms/step - loss: 0.8814 - accuracy: 0.6927 - val_loss: 1.4697 - val_accuracy: 0.5312\n",
            "Epoch 66/200\n",
            "72/72 [==============================] - 2s 27ms/step - loss: 0.8629 - accuracy: 0.7014 - val_loss: 1.6280 - val_accuracy: 0.5174\n",
            "Epoch 67/200\n",
            "72/72 [==============================] - 2s 26ms/step - loss: 0.8805 - accuracy: 0.6858 - val_loss: 1.6423 - val_accuracy: 0.4965\n",
            "Epoch 68/200\n",
            "72/72 [==============================] - 2s 27ms/step - loss: 0.8301 - accuracy: 0.7109 - val_loss: 1.5368 - val_accuracy: 0.5208\n",
            "Epoch 69/200\n",
            "72/72 [==============================] - 2s 27ms/step - loss: 0.8036 - accuracy: 0.7023 - val_loss: 1.7518 - val_accuracy: 0.4965\n",
            "Epoch 70/200\n",
            "72/72 [==============================] - 2s 27ms/step - loss: 0.8289 - accuracy: 0.6953 - val_loss: 1.6523 - val_accuracy: 0.5139\n",
            "Epoch 71/200\n",
            "72/72 [==============================] - 2s 27ms/step - loss: 0.7981 - accuracy: 0.7109 - val_loss: 1.5969 - val_accuracy: 0.5243\n",
            "Epoch 72/200\n",
            "72/72 [==============================] - 2s 27ms/step - loss: 0.7422 - accuracy: 0.7300 - val_loss: 1.7786 - val_accuracy: 0.5104\n",
            "Epoch 73/200\n",
            "72/72 [==============================] - 2s 27ms/step - loss: 0.7554 - accuracy: 0.7153 - val_loss: 1.8226 - val_accuracy: 0.4931\n",
            "Epoch 74/200\n",
            "72/72 [==============================] - 2s 27ms/step - loss: 0.7342 - accuracy: 0.7257 - val_loss: 1.7047 - val_accuracy: 0.5139\n",
            "Epoch 75/200\n",
            "72/72 [==============================] - 2s 27ms/step - loss: 0.7520 - accuracy: 0.7196 - val_loss: 1.6450 - val_accuracy: 0.5139\n",
            "Epoch 76/200\n",
            "72/72 [==============================] - 2s 27ms/step - loss: 0.7588 - accuracy: 0.7205 - val_loss: 1.7048 - val_accuracy: 0.5139\n",
            "Epoch 77/200\n",
            "72/72 [==============================] - 2s 27ms/step - loss: 0.7343 - accuracy: 0.7569 - val_loss: 1.7485 - val_accuracy: 0.5000\n",
            "Epoch 78/200\n",
            "72/72 [==============================] - 2s 27ms/step - loss: 0.7027 - accuracy: 0.7569 - val_loss: 1.8848 - val_accuracy: 0.4965\n",
            "Epoch 79/200\n",
            "72/72 [==============================] - 2s 28ms/step - loss: 0.7055 - accuracy: 0.7509 - val_loss: 1.7229 - val_accuracy: 0.4896\n",
            "Epoch 80/200\n",
            "72/72 [==============================] - 2s 26ms/step - loss: 0.7254 - accuracy: 0.7483 - val_loss: 1.6914 - val_accuracy: 0.5417\n",
            "Epoch 81/200\n",
            "72/72 [==============================] - 2s 27ms/step - loss: 0.6530 - accuracy: 0.7708 - val_loss: 1.8118 - val_accuracy: 0.5035\n",
            "Epoch 82/200\n",
            "72/72 [==============================] - 2s 26ms/step - loss: 0.6514 - accuracy: 0.7700 - val_loss: 1.8192 - val_accuracy: 0.5000\n",
            "Epoch 83/200\n",
            "72/72 [==============================] - 2s 27ms/step - loss: 0.6982 - accuracy: 0.7474 - val_loss: 1.8308 - val_accuracy: 0.4931\n",
            "Epoch 84/200\n",
            "72/72 [==============================] - 2s 27ms/step - loss: 0.6370 - accuracy: 0.7630 - val_loss: 1.8406 - val_accuracy: 0.4722\n",
            "Epoch 85/200\n",
            "72/72 [==============================] - 2s 27ms/step - loss: 0.6801 - accuracy: 0.7622 - val_loss: 1.7080 - val_accuracy: 0.5312\n",
            "Epoch 86/200\n",
            "72/72 [==============================] - 2s 27ms/step - loss: 0.5876 - accuracy: 0.7873 - val_loss: 1.6616 - val_accuracy: 0.5312\n",
            "Epoch 87/200\n",
            "72/72 [==============================] - 2s 27ms/step - loss: 0.5710 - accuracy: 0.7943 - val_loss: 1.8606 - val_accuracy: 0.4965\n",
            "Epoch 88/200\n",
            "72/72 [==============================] - 2s 27ms/step - loss: 0.6431 - accuracy: 0.7648 - val_loss: 1.7230 - val_accuracy: 0.5382\n",
            "Epoch 89/200\n",
            "72/72 [==============================] - 2s 27ms/step - loss: 0.6201 - accuracy: 0.7847 - val_loss: 1.7966 - val_accuracy: 0.5139\n",
            "Epoch 90/200\n",
            "72/72 [==============================] - 2s 26ms/step - loss: 0.5992 - accuracy: 0.7951 - val_loss: 2.0301 - val_accuracy: 0.5000\n",
            "Epoch 91/200\n",
            "72/72 [==============================] - 2s 27ms/step - loss: 0.6174 - accuracy: 0.7856 - val_loss: 1.7519 - val_accuracy: 0.5625\n",
            "Epoch 92/200\n",
            "72/72 [==============================] - 2s 27ms/step - loss: 0.5720 - accuracy: 0.7943 - val_loss: 1.8428 - val_accuracy: 0.5000\n",
            "Epoch 93/200\n",
            "72/72 [==============================] - 2s 27ms/step - loss: 0.5767 - accuracy: 0.8030 - val_loss: 1.7562 - val_accuracy: 0.5208\n",
            "Epoch 94/200\n",
            "72/72 [==============================] - 2s 27ms/step - loss: 0.5795 - accuracy: 0.7812 - val_loss: 1.9401 - val_accuracy: 0.4931\n",
            "Epoch 95/200\n",
            "72/72 [==============================] - 2s 27ms/step - loss: 0.5578 - accuracy: 0.8038 - val_loss: 1.8345 - val_accuracy: 0.5278\n",
            "Epoch 96/200\n",
            "72/72 [==============================] - 2s 27ms/step - loss: 0.5964 - accuracy: 0.7726 - val_loss: 1.8560 - val_accuracy: 0.5000\n",
            "Epoch 97/200\n",
            "72/72 [==============================] - 2s 27ms/step - loss: 0.5484 - accuracy: 0.8082 - val_loss: 2.0605 - val_accuracy: 0.5035\n",
            "Epoch 98/200\n",
            "72/72 [==============================] - 2s 27ms/step - loss: 0.5811 - accuracy: 0.8038 - val_loss: 1.8040 - val_accuracy: 0.5104\n",
            "Epoch 99/200\n",
            "72/72 [==============================] - 2s 27ms/step - loss: 0.5157 - accuracy: 0.8134 - val_loss: 1.9481 - val_accuracy: 0.5174\n",
            "Epoch 100/200\n",
            "72/72 [==============================] - 2s 27ms/step - loss: 0.5433 - accuracy: 0.8160 - val_loss: 1.9461 - val_accuracy: 0.5312\n",
            "Epoch 101/200\n",
            "72/72 [==============================] - 2s 27ms/step - loss: 0.5032 - accuracy: 0.8264 - val_loss: 1.7742 - val_accuracy: 0.5590\n",
            "Epoch 102/200\n",
            "72/72 [==============================] - 2s 27ms/step - loss: 0.5028 - accuracy: 0.8290 - val_loss: 1.9908 - val_accuracy: 0.5174\n",
            "Epoch 103/200\n",
            "72/72 [==============================] - 2s 27ms/step - loss: 0.5540 - accuracy: 0.7977 - val_loss: 1.9074 - val_accuracy: 0.5174\n",
            "Epoch 104/200\n",
            "72/72 [==============================] - 2s 27ms/step - loss: 0.5204 - accuracy: 0.8194 - val_loss: 1.9632 - val_accuracy: 0.5139\n",
            "Epoch 105/200\n",
            "72/72 [==============================] - 2s 27ms/step - loss: 0.5369 - accuracy: 0.8116 - val_loss: 1.9267 - val_accuracy: 0.5035\n",
            "Epoch 106/200\n",
            "72/72 [==============================] - 2s 27ms/step - loss: 0.5606 - accuracy: 0.8177 - val_loss: 1.9675 - val_accuracy: 0.5243\n",
            "Epoch 107/200\n",
            "72/72 [==============================] - 2s 27ms/step - loss: 0.4567 - accuracy: 0.8368 - val_loss: 1.9984 - val_accuracy: 0.4965\n",
            "Epoch 108/200\n",
            "72/72 [==============================] - 2s 27ms/step - loss: 0.4879 - accuracy: 0.8194 - val_loss: 2.0352 - val_accuracy: 0.5486\n",
            "Epoch 109/200\n",
            "72/72 [==============================] - 2s 27ms/step - loss: 0.5243 - accuracy: 0.8090 - val_loss: 1.9223 - val_accuracy: 0.5243\n",
            "Epoch 110/200\n",
            "72/72 [==============================] - 2s 27ms/step - loss: 0.4811 - accuracy: 0.8385 - val_loss: 2.0729 - val_accuracy: 0.5208\n",
            "Epoch 111/200\n",
            "72/72 [==============================] - 2s 27ms/step - loss: 0.4796 - accuracy: 0.8429 - val_loss: 2.2214 - val_accuracy: 0.4861\n",
            "Epoch 112/200\n",
            "72/72 [==============================] - 2s 27ms/step - loss: 0.4900 - accuracy: 0.8438 - val_loss: 1.9416 - val_accuracy: 0.5139\n",
            "Epoch 113/200\n",
            "72/72 [==============================] - 2s 27ms/step - loss: 0.4919 - accuracy: 0.8307 - val_loss: 1.9426 - val_accuracy: 0.4965\n",
            "Epoch 114/200\n",
            "72/72 [==============================] - 2s 27ms/step - loss: 0.4619 - accuracy: 0.8464 - val_loss: 1.9306 - val_accuracy: 0.5104\n",
            "Epoch 115/200\n",
            "72/72 [==============================] - 2s 27ms/step - loss: 0.4221 - accuracy: 0.8524 - val_loss: 2.0417 - val_accuracy: 0.5174\n",
            "Epoch 116/200\n",
            "72/72 [==============================] - 2s 27ms/step - loss: 0.4574 - accuracy: 0.8411 - val_loss: 2.0308 - val_accuracy: 0.5104\n",
            "Epoch 117/200\n",
            "72/72 [==============================] - 2s 27ms/step - loss: 0.4207 - accuracy: 0.8611 - val_loss: 2.3037 - val_accuracy: 0.4896\n",
            "Epoch 118/200\n",
            "72/72 [==============================] - 2s 27ms/step - loss: 0.4006 - accuracy: 0.8628 - val_loss: 2.1308 - val_accuracy: 0.5243\n",
            "Epoch 119/200\n",
            "72/72 [==============================] - 2s 27ms/step - loss: 0.4266 - accuracy: 0.8533 - val_loss: 2.1887 - val_accuracy: 0.4896\n",
            "Epoch 120/200\n",
            "72/72 [==============================] - 2s 27ms/step - loss: 0.4238 - accuracy: 0.8646 - val_loss: 2.1871 - val_accuracy: 0.5139\n",
            "Epoch 121/200\n",
            "72/72 [==============================] - 2s 27ms/step - loss: 0.5117 - accuracy: 0.8255 - val_loss: 2.2907 - val_accuracy: 0.5000\n",
            "Epoch 122/200\n",
            "72/72 [==============================] - 2s 27ms/step - loss: 0.4432 - accuracy: 0.8420 - val_loss: 2.0734 - val_accuracy: 0.5243\n",
            "Epoch 123/200\n",
            "72/72 [==============================] - 2s 27ms/step - loss: 0.4343 - accuracy: 0.8403 - val_loss: 2.2519 - val_accuracy: 0.5208\n",
            "Epoch 124/200\n",
            "72/72 [==============================] - 2s 27ms/step - loss: 0.3991 - accuracy: 0.8568 - val_loss: 2.2362 - val_accuracy: 0.5035\n",
            "Epoch 125/200\n",
            "72/72 [==============================] - 2s 27ms/step - loss: 0.4662 - accuracy: 0.8403 - val_loss: 2.1708 - val_accuracy: 0.5312\n",
            "Epoch 126/200\n",
            "72/72 [==============================] - 2s 28ms/step - loss: 0.4449 - accuracy: 0.8498 - val_loss: 2.2084 - val_accuracy: 0.5069\n",
            "Epoch 127/200\n",
            "72/72 [==============================] - 2s 27ms/step - loss: 0.4274 - accuracy: 0.8559 - val_loss: 2.2548 - val_accuracy: 0.5104\n",
            "Epoch 128/200\n",
            "72/72 [==============================] - 2s 27ms/step - loss: 0.3909 - accuracy: 0.8681 - val_loss: 2.2685 - val_accuracy: 0.4931\n",
            "Epoch 129/200\n",
            "72/72 [==============================] - 2s 26ms/step - loss: 0.4471 - accuracy: 0.8455 - val_loss: 2.1689 - val_accuracy: 0.4826\n",
            "Epoch 130/200\n",
            "72/72 [==============================] - 2s 27ms/step - loss: 0.4196 - accuracy: 0.8620 - val_loss: 2.2251 - val_accuracy: 0.4826\n",
            "Epoch 131/200\n",
            "72/72 [==============================] - 2s 27ms/step - loss: 0.4010 - accuracy: 0.8568 - val_loss: 2.1669 - val_accuracy: 0.5174\n",
            "Epoch 132/200\n",
            "72/72 [==============================] - 2s 27ms/step - loss: 0.3907 - accuracy: 0.8672 - val_loss: 2.2063 - val_accuracy: 0.5000\n",
            "Epoch 133/200\n",
            "72/72 [==============================] - 2s 28ms/step - loss: 0.3833 - accuracy: 0.8681 - val_loss: 2.2670 - val_accuracy: 0.5139\n",
            "Epoch 134/200\n",
            "72/72 [==============================] - 2s 27ms/step - loss: 0.3726 - accuracy: 0.8811 - val_loss: 2.1711 - val_accuracy: 0.5139\n",
            "Epoch 135/200\n",
            "72/72 [==============================] - 2s 27ms/step - loss: 0.3607 - accuracy: 0.8724 - val_loss: 2.2434 - val_accuracy: 0.5069\n",
            "Epoch 136/200\n",
            "72/72 [==============================] - 2s 27ms/step - loss: 0.3841 - accuracy: 0.8750 - val_loss: 2.4242 - val_accuracy: 0.4896\n",
            "Epoch 137/200\n",
            "72/72 [==============================] - 2s 27ms/step - loss: 0.4038 - accuracy: 0.8472 - val_loss: 2.2262 - val_accuracy: 0.5174\n",
            "Epoch 138/200\n",
            "72/72 [==============================] - 2s 28ms/step - loss: 0.4408 - accuracy: 0.8490 - val_loss: 2.2470 - val_accuracy: 0.5104\n",
            "Epoch 139/200\n",
            "72/72 [==============================] - 2s 28ms/step - loss: 0.4193 - accuracy: 0.8620 - val_loss: 2.1299 - val_accuracy: 0.5556\n",
            "Epoch 140/200\n",
            "72/72 [==============================] - 2s 27ms/step - loss: 0.3723 - accuracy: 0.8707 - val_loss: 2.3002 - val_accuracy: 0.5035\n",
            "Epoch 141/200\n",
            "72/72 [==============================] - 2s 27ms/step - loss: 0.3736 - accuracy: 0.8767 - val_loss: 2.3035 - val_accuracy: 0.4896\n",
            "Epoch 142/200\n",
            "72/72 [==============================] - 2s 28ms/step - loss: 0.3441 - accuracy: 0.8776 - val_loss: 2.3859 - val_accuracy: 0.4931\n",
            "Epoch 143/200\n",
            "72/72 [==============================] - 2s 27ms/step - loss: 0.3074 - accuracy: 0.8845 - val_loss: 2.5373 - val_accuracy: 0.4896\n",
            "Epoch 144/200\n",
            "72/72 [==============================] - 2s 26ms/step - loss: 0.4172 - accuracy: 0.8611 - val_loss: 2.2249 - val_accuracy: 0.5139\n",
            "Epoch 145/200\n",
            "72/72 [==============================] - 2s 27ms/step - loss: 0.3675 - accuracy: 0.8750 - val_loss: 2.1411 - val_accuracy: 0.5069\n",
            "Epoch 146/200\n",
            "72/72 [==============================] - 2s 27ms/step - loss: 0.3727 - accuracy: 0.8724 - val_loss: 2.1875 - val_accuracy: 0.4896\n",
            "Epoch 147/200\n",
            "72/72 [==============================] - 2s 27ms/step - loss: 0.3804 - accuracy: 0.8585 - val_loss: 2.2665 - val_accuracy: 0.5069\n",
            "Epoch 148/200\n",
            "72/72 [==============================] - 2s 27ms/step - loss: 0.3319 - accuracy: 0.8906 - val_loss: 2.3202 - val_accuracy: 0.5104\n",
            "Epoch 149/200\n",
            "72/72 [==============================] - 2s 27ms/step - loss: 0.3411 - accuracy: 0.8863 - val_loss: 2.5050 - val_accuracy: 0.4618\n",
            "Epoch 150/200\n",
            "72/72 [==============================] - 2s 28ms/step - loss: 0.3438 - accuracy: 0.8845 - val_loss: 2.3888 - val_accuracy: 0.4896\n",
            "Epoch 151/200\n",
            "72/72 [==============================] - 2s 27ms/step - loss: 0.3190 - accuracy: 0.8793 - val_loss: 2.3917 - val_accuracy: 0.4931\n",
            "Epoch 152/200\n",
            "72/72 [==============================] - 2s 27ms/step - loss: 0.3574 - accuracy: 0.8837 - val_loss: 2.4678 - val_accuracy: 0.4826\n",
            "Epoch 153/200\n",
            "72/72 [==============================] - 2s 27ms/step - loss: 0.3762 - accuracy: 0.8698 - val_loss: 2.3334 - val_accuracy: 0.5174\n",
            "Epoch 154/200\n",
            "72/72 [==============================] - 2s 27ms/step - loss: 0.3876 - accuracy: 0.8707 - val_loss: 2.5401 - val_accuracy: 0.5000\n",
            "Epoch 155/200\n",
            "72/72 [==============================] - 2s 28ms/step - loss: 0.3432 - accuracy: 0.8906 - val_loss: 2.5536 - val_accuracy: 0.4514\n",
            "Epoch 156/200\n",
            "72/72 [==============================] - 2s 27ms/step - loss: 0.4086 - accuracy: 0.8611 - val_loss: 2.2891 - val_accuracy: 0.5000\n",
            "Epoch 157/200\n",
            "72/72 [==============================] - 2s 27ms/step - loss: 0.3252 - accuracy: 0.8976 - val_loss: 2.4885 - val_accuracy: 0.4792\n",
            "Epoch 158/200\n",
            "72/72 [==============================] - 2s 27ms/step - loss: 0.3464 - accuracy: 0.8733 - val_loss: 2.2551 - val_accuracy: 0.5069\n",
            "Epoch 159/200\n",
            "72/72 [==============================] - 2s 28ms/step - loss: 0.3337 - accuracy: 0.8976 - val_loss: 2.5490 - val_accuracy: 0.4444\n",
            "Epoch 160/200\n",
            "72/72 [==============================] - 2s 27ms/step - loss: 0.3247 - accuracy: 0.8811 - val_loss: 2.4549 - val_accuracy: 0.4826\n",
            "Epoch 161/200\n",
            "72/72 [==============================] - 2s 27ms/step - loss: 0.3511 - accuracy: 0.8976 - val_loss: 2.4176 - val_accuracy: 0.4722\n",
            "Epoch 162/200\n",
            "72/72 [==============================] - 2s 27ms/step - loss: 0.3153 - accuracy: 0.8898 - val_loss: 2.3025 - val_accuracy: 0.5069\n",
            "Epoch 163/200\n",
            "72/72 [==============================] - 2s 27ms/step - loss: 0.2954 - accuracy: 0.8906 - val_loss: 2.4551 - val_accuracy: 0.4931\n",
            "Epoch 164/200\n",
            "72/72 [==============================] - 2s 27ms/step - loss: 0.3088 - accuracy: 0.9010 - val_loss: 2.1198 - val_accuracy: 0.5312\n",
            "Epoch 165/200\n",
            "72/72 [==============================] - 2s 27ms/step - loss: 0.3115 - accuracy: 0.9002 - val_loss: 2.4933 - val_accuracy: 0.4931\n",
            "Epoch 166/200\n",
            "72/72 [==============================] - 2s 27ms/step - loss: 0.2897 - accuracy: 0.8958 - val_loss: 2.5102 - val_accuracy: 0.5139\n",
            "Epoch 167/200\n",
            "72/72 [==============================] - 2s 27ms/step - loss: 0.3629 - accuracy: 0.8750 - val_loss: 2.2951 - val_accuracy: 0.5069\n",
            "Epoch 168/200\n",
            "72/72 [==============================] - 2s 26ms/step - loss: 0.3023 - accuracy: 0.8950 - val_loss: 2.3210 - val_accuracy: 0.5069\n",
            "Epoch 169/200\n",
            "72/72 [==============================] - 2s 27ms/step - loss: 0.3569 - accuracy: 0.8837 - val_loss: 2.3180 - val_accuracy: 0.5174\n",
            "Epoch 170/200\n",
            "72/72 [==============================] - 2s 28ms/step - loss: 0.3452 - accuracy: 0.8828 - val_loss: 2.1310 - val_accuracy: 0.5347\n",
            "Epoch 171/200\n",
            "72/72 [==============================] - 2s 28ms/step - loss: 0.2816 - accuracy: 0.9132 - val_loss: 2.5015 - val_accuracy: 0.5139\n",
            "Epoch 172/200\n",
            "72/72 [==============================] - 2s 27ms/step - loss: 0.3235 - accuracy: 0.9028 - val_loss: 2.3287 - val_accuracy: 0.5208\n",
            "Epoch 173/200\n",
            "72/72 [==============================] - 2s 27ms/step - loss: 0.3480 - accuracy: 0.8811 - val_loss: 2.3980 - val_accuracy: 0.5312\n",
            "Epoch 174/200\n",
            "72/72 [==============================] - 2s 28ms/step - loss: 0.2932 - accuracy: 0.9036 - val_loss: 2.4737 - val_accuracy: 0.5347\n",
            "Epoch 175/200\n",
            "72/72 [==============================] - 2s 27ms/step - loss: 0.2984 - accuracy: 0.8924 - val_loss: 2.5360 - val_accuracy: 0.5104\n",
            "Epoch 176/200\n",
            "72/72 [==============================] - 2s 27ms/step - loss: 0.3134 - accuracy: 0.9054 - val_loss: 2.3871 - val_accuracy: 0.5208\n",
            "Epoch 177/200\n",
            "72/72 [==============================] - 2s 28ms/step - loss: 0.3113 - accuracy: 0.8941 - val_loss: 2.1584 - val_accuracy: 0.5486\n",
            "Epoch 178/200\n",
            "72/72 [==============================] - 2s 27ms/step - loss: 0.2778 - accuracy: 0.9115 - val_loss: 2.3254 - val_accuracy: 0.5208\n",
            "Epoch 179/200\n",
            "72/72 [==============================] - 2s 27ms/step - loss: 0.3093 - accuracy: 0.9019 - val_loss: 2.4666 - val_accuracy: 0.4861\n",
            "Epoch 180/200\n",
            "72/72 [==============================] - 2s 27ms/step - loss: 0.2876 - accuracy: 0.8967 - val_loss: 2.6024 - val_accuracy: 0.5139\n",
            "Epoch 181/200\n",
            "72/72 [==============================] - 2s 27ms/step - loss: 0.2655 - accuracy: 0.9123 - val_loss: 2.4407 - val_accuracy: 0.5243\n",
            "Epoch 182/200\n",
            "72/72 [==============================] - 2s 27ms/step - loss: 0.2849 - accuracy: 0.9080 - val_loss: 2.5076 - val_accuracy: 0.5417\n",
            "Epoch 183/200\n",
            "72/72 [==============================] - 2s 27ms/step - loss: 0.3270 - accuracy: 0.8906 - val_loss: 2.5622 - val_accuracy: 0.5174\n",
            "Epoch 184/200\n",
            "72/72 [==============================] - 2s 27ms/step - loss: 0.3339 - accuracy: 0.8889 - val_loss: 2.4427 - val_accuracy: 0.5208\n",
            "Epoch 185/200\n",
            "72/72 [==============================] - 2s 27ms/step - loss: 0.2989 - accuracy: 0.8932 - val_loss: 2.6359 - val_accuracy: 0.4896\n",
            "Epoch 186/200\n",
            "72/72 [==============================] - 2s 28ms/step - loss: 0.2531 - accuracy: 0.9019 - val_loss: 2.7215 - val_accuracy: 0.4861\n",
            "Epoch 187/200\n",
            "72/72 [==============================] - 2s 27ms/step - loss: 0.2851 - accuracy: 0.9080 - val_loss: 2.6194 - val_accuracy: 0.4826\n",
            "Epoch 188/200\n",
            "72/72 [==============================] - 2s 27ms/step - loss: 0.2809 - accuracy: 0.9106 - val_loss: 2.6042 - val_accuracy: 0.4861\n",
            "Epoch 189/200\n",
            "72/72 [==============================] - 2s 27ms/step - loss: 0.2525 - accuracy: 0.9115 - val_loss: 2.6641 - val_accuracy: 0.4931\n",
            "Epoch 190/200\n",
            "72/72 [==============================] - 2s 28ms/step - loss: 0.2933 - accuracy: 0.9045 - val_loss: 2.5769 - val_accuracy: 0.4826\n",
            "Epoch 191/200\n",
            "72/72 [==============================] - 2s 27ms/step - loss: 0.3039 - accuracy: 0.8906 - val_loss: 2.8060 - val_accuracy: 0.4861\n",
            "Epoch 192/200\n",
            "72/72 [==============================] - 2s 28ms/step - loss: 0.3101 - accuracy: 0.8993 - val_loss: 2.5229 - val_accuracy: 0.5243\n",
            "Epoch 193/200\n",
            "72/72 [==============================] - 2s 28ms/step - loss: 0.2397 - accuracy: 0.9167 - val_loss: 2.4362 - val_accuracy: 0.5625\n",
            "Epoch 194/200\n",
            "72/72 [==============================] - 2s 27ms/step - loss: 0.2915 - accuracy: 0.9080 - val_loss: 2.4975 - val_accuracy: 0.5208\n",
            "Epoch 195/200\n",
            "72/72 [==============================] - 2s 27ms/step - loss: 0.2499 - accuracy: 0.9149 - val_loss: 2.6269 - val_accuracy: 0.4861\n",
            "Epoch 196/200\n",
            "72/72 [==============================] - 2s 27ms/step - loss: 0.2624 - accuracy: 0.9045 - val_loss: 2.7107 - val_accuracy: 0.5278\n",
            "Epoch 197/200\n",
            "72/72 [==============================] - 2s 27ms/step - loss: 0.2737 - accuracy: 0.9097 - val_loss: 2.8015 - val_accuracy: 0.4931\n",
            "Epoch 198/200\n",
            "72/72 [==============================] - 2s 27ms/step - loss: 0.2810 - accuracy: 0.9097 - val_loss: 2.7304 - val_accuracy: 0.4896\n",
            "Epoch 199/200\n",
            "72/72 [==============================] - 2s 28ms/step - loss: 0.2479 - accuracy: 0.9184 - val_loss: 2.7903 - val_accuracy: 0.4896\n",
            "Epoch 200/200\n",
            "72/72 [==============================] - 2s 27ms/step - loss: 0.2515 - accuracy: 0.9158 - val_loss: 2.7535 - val_accuracy: 0.4931\n"
          ]
        }
      ]
    },
    {
      "cell_type": "code",
      "metadata": {
        "colab": {
          "base_uri": "https://localhost:8080/"
        },
        "id": "-JPtaz69NTFd",
        "outputId": "583114ba-e9d8-4dba-8825-61c1be5416d9"
      },
      "source": [
        "model.summary()"
      ],
      "execution_count": null,
      "outputs": [
        {
          "output_type": "stream",
          "name": "stdout",
          "text": [
            "Model: \"sequential_8\"\n",
            "_________________________________________________________________\n",
            " Layer (type)                Output Shape              Param #   \n",
            "=================================================================\n",
            " lstm_2 (LSTM)               (None, 40, 90)            33120     \n",
            "                                                                 \n",
            " lstm_3 (LSTM)               (None, 40, 60)            36240     \n",
            "                                                                 \n",
            " flatten_8 (Flatten)         (None, 2400)              0         \n",
            "                                                                 \n",
            " dense_20 (Dense)            (None, 60)                144060    \n",
            "                                                                 \n",
            " dropout_16 (Dropout)        (None, 60)                0         \n",
            "                                                                 \n",
            " dense_21 (Dense)            (None, 30)                1830      \n",
            "                                                                 \n",
            " dropout_17 (Dropout)        (None, 30)                0         \n",
            "                                                                 \n",
            " dense_22 (Dense)            (None, 8)                 248       \n",
            "                                                                 \n",
            "=================================================================\n",
            "Total params: 215,498\n",
            "Trainable params: 215,498\n",
            "Non-trainable params: 0\n",
            "_________________________________________________________________\n"
          ]
        }
      ]
    },
    {
      "cell_type": "code",
      "metadata": {
        "colab": {
          "base_uri": "https://localhost:8080/",
          "height": 458
        },
        "id": "ctCl7gYINV7y",
        "outputId": "9bf3c477-0ec0-427c-e53d-b32b280c61f5"
      },
      "source": [
        "plt.figure(figsize=(10,7))\n",
        "plt.plot(cnnhistory.history['loss'])\n",
        "plt.plot(cnnhistory.history['val_loss'])\n",
        "plt.title('model loss')\n",
        "plt.ylabel('loss')\n",
        "plt.xlabel('epoch')\n",
        "plt.legend(['train', 'test'], loc='upper left')\n",
        "plt.show()"
      ],
      "execution_count": null,
      "outputs": [
        {
          "output_type": "display_data",
          "data": {
            "image/png": "[encoded data removed]",
            "text/plain": [
              "<Figure size 720x504 with 1 Axes>"
            ]
          },
          "metadata": {
            "needs_background": "light"
          }
        }
      ]
    },
    {
      "cell_type": "code",
      "source": [
        "plt.figure(figsize=(10,7))\n",
        "plt.plot(cnnhistory.history['accuracy'])\n",
        "plt.plot(cnnhistory.history['val_accuracy'])\n",
        "plt.title('model accuracy')\n",
        "plt.ylabel('accuracy')\n",
        "plt.xlabel('epoch')\n",
        "plt.legend(['train', 'test'], loc='upper left')\n",
        "plt.show()"
      ],
      "metadata": {
        "colab": {
          "base_uri": "https://localhost:8080/",
          "height": 458
        },
        "id": "jJJxOasW0wtA",
        "outputId": "d5f49fd4-fc93-4fd3-93d6-67bccbe4e61a"
      },
      "execution_count": null,
      "outputs": [
        {
          "output_type": "display_data",
          "data": {
            "image/png": "[encoded data removed]",
            "text/plain": [
              "<Figure size 720x504 with 1 Axes>"
            ]
          },
          "metadata": {
            "needs_background": "light"
          }
        }
      ]
    },
    {
      "cell_type": "code",
      "metadata": {
        "id": "GMqjzDbn7nEw"
      },
      "source": [
        "from sklearn.preprocessing import MinMaxScaler\n",
        "scaler  =  MinMaxScaler()\n",
        "x = scaler.fit_transform(X)"
      ],
      "execution_count": null,
      "outputs": []
    },
    {
      "cell_type": "code",
      "metadata": {
        "colab": {
          "base_uri": "https://localhost:8080/"
        },
        "id": "s7vTpE-M-g0b",
        "outputId": "88d1cb4f-f380-4111-d431-613f131d0fc2"
      },
      "source": [
        "lb = LabelEncoder()\n",
        "y = lb.fit_transform(y)\n",
        "y"
      ],
      "execution_count": null,
      "outputs": [
        {
          "output_type": "execute_result",
          "data": {
            "text/plain": [
              "array([0, 1, 1, ..., 6, 7, 7])"
            ]
          },
          "metadata": {},
          "execution_count": 100
        }
      ]
    },
    {
      "cell_type": "code",
      "metadata": {
        "colab": {
          "base_uri": "https://localhost:8080/"
        },
        "id": "6LvOb3vp-F-C",
        "outputId": "04cb688c-2eb0-4760-aa58-d062ca07dbf7"
      },
      "source": [
        "y = to_categorical(y)\n",
        "print(y.shape)\n",
        "print(y)"
      ],
      "execution_count": null,
      "outputs": [
        {
          "output_type": "stream",
          "name": "stdout",
          "text": [
            "(1440, 8)\n",
            "[[1. 0. 0. ... 0. 0. 0.]\n",
            " [0. 1. 0. ... 0. 0. 0.]\n",
            " [0. 1. 0. ... 0. 0. 0.]\n",
            " ...\n",
            " [0. 0. 0. ... 0. 1. 0.]\n",
            " [0. 0. 0. ... 0. 0. 1.]\n",
            " [0. 0. 0. ... 0. 0. 1.]]\n"
          ]
        }
      ]
    },
    {
      "cell_type": "code",
      "metadata": {
        "id": "rW5lB92B8iv-"
      },
      "source": [
        "from sklearn.model_selection import train_test_split\n",
        "x_train,x_test,y_train,y_test = train_test_split(x,y,test_size=0.1,shuffle=True)"
      ],
      "execution_count": null,
      "outputs": []
    },
    {
      "cell_type": "code",
      "metadata": {
        "colab": {
          "base_uri": "https://localhost:8080/"
        },
        "id": "fWN1drQH7haG",
        "outputId": "11f3d7c0-1510-4388-c28e-c9ffdc269909"
      },
      "source": [
        "x = np.expand_dims(x,axis=2)\n",
        "x.shape"
      ],
      "execution_count": null,
      "outputs": [
        {
          "output_type": "execute_result",
          "data": {
            "text/plain": [
              "(1440, 40, 1)"
            ]
          },
          "metadata": {},
          "execution_count": 103
        }
      ]
    },
    {
      "cell_type": "code",
      "metadata": {
        "colab": {
          "base_uri": "https://localhost:8080/"
        },
        "id": "WsU0nlnHW4q1",
        "outputId": "a5e3ed5e-ffc3-4052-c535-52479e01461f"
      },
      "source": [
        "model = Sequential()\n",
        "model.add(Dense(256,input_shape=(40,1)))\n",
        "model.add(Dense(512, activation= \"relu\"))\n",
        "model.add(Dropout(0.25))\n",
        "model.add(Dense(512))\n",
        "model.add(Dense(256, activation=\"tanh\"))\n",
        "model.add(Dropout(0.20))\n",
        "model.add(Dense(256))\n",
        "model.add(Dense(128))\n",
        "model.add(Dense(64, activation=\"relu\"))\n",
        "model.add(Dropout(0.10))\n",
        "model.add(Dense(64))\n",
        "model.add(Dense(40))\n",
        "model.add(Flatten())\n",
        "model.add(Dense(8,activation='softmax'))\n",
        "model.summary()"
      ],
      "execution_count": null,
      "outputs": [
        {
          "output_type": "stream",
          "name": "stdout",
          "text": [
            "Model: \"sequential_9\"\n",
            "_________________________________________________________________\n",
            " Layer (type)                Output Shape              Param #   \n",
            "=================================================================\n",
            " dense_23 (Dense)            (None, 40, 256)           512       \n",
            "                                                                 \n",
            " dense_24 (Dense)            (None, 40, 512)           131584    \n",
            "                                                                 \n",
            " dropout_18 (Dropout)        (None, 40, 512)           0         \n",
            "                                                                 \n",
            " dense_25 (Dense)            (None, 40, 512)           262656    \n",
            "                                                                 \n",
            " dense_26 (Dense)            (None, 40, 256)           131328    \n",
            "                                                                 \n",
            " dropout_19 (Dropout)        (None, 40, 256)           0         \n",
            "                                                                 \n",
            " dense_27 (Dense)            (None, 40, 256)           65792     \n",
            "                                                                 \n",
            " dense_28 (Dense)            (None, 40, 128)           32896     \n",
            "                                                                 \n",
            " dense_29 (Dense)            (None, 40, 64)            8256      \n",
            "                                                                 \n",
            " dropout_20 (Dropout)        (None, 40, 64)            0         \n",
            "                                                                 \n",
            " dense_30 (Dense)            (None, 40, 64)            4160      \n",
            "                                                                 \n",
            " dense_31 (Dense)            (None, 40, 40)            2600      \n",
            "                                                                 \n",
            " flatten_9 (Flatten)         (None, 1600)              0         \n",
            "                                                                 \n",
            " dense_32 (Dense)            (None, 8)                 12808     \n",
            "                                                                 \n",
            "=================================================================\n",
            "Total params: 652,592\n",
            "Trainable params: 652,592\n",
            "Non-trainable params: 0\n",
            "_________________________________________________________________\n"
          ]
        }
      ]
    },
    {
      "cell_type": "code",
      "metadata": {
        "id": "sY3rjMkw4psz"
      },
      "source": [
        "model.compile(loss='categorical_crossentropy',optimizer='adam',metrics=['accuracy'])"
      ],
      "execution_count": null,
      "outputs": []
    },
    {
      "cell_type": "code",
      "metadata": {
        "colab": {
          "base_uri": "https://localhost:8080/"
        },
        "id": "N8xExA2P4qTg",
        "outputId": "ab8b7363-8a70-4659-e05b-e5403717f3b6"
      },
      "source": [
        "model_cnn = model.fit(x_train,y_train,batch_size = 32,epochs=250,validation_data=(x_test,y_test))"
      ],
      "execution_count": null,
      "outputs": [
        {
          "output_type": "stream",
          "name": "stdout",
          "text": [
            "Epoch 1/250\n",
            "41/41 [==============================] - 3s 30ms/step - loss: 2.0543 - accuracy: 0.1535 - val_loss: 1.8902 - val_accuracy: 0.2847\n",
            "Epoch 2/250\n",
            "41/41 [==============================] - 1s 20ms/step - loss: 1.7772 - accuracy: 0.3395 - val_loss: 1.6448 - val_accuracy: 0.3889\n",
            "Epoch 3/250\n",
            "41/41 [==============================] - 1s 20ms/step - loss: 1.6010 - accuracy: 0.3912 - val_loss: 1.6225 - val_accuracy: 0.3611\n",
            "Epoch 4/250\n",
            "41/41 [==============================] - 1s 20ms/step - loss: 1.4906 - accuracy: 0.4406 - val_loss: 1.4713 - val_accuracy: 0.4306\n",
            "Epoch 5/250\n",
            "41/41 [==============================] - 1s 20ms/step - loss: 1.4047 - accuracy: 0.4730 - val_loss: 1.5404 - val_accuracy: 0.4167\n",
            "Epoch 6/250\n",
            "41/41 [==============================] - 1s 19ms/step - loss: 1.3687 - accuracy: 0.4869 - val_loss: 1.4789 - val_accuracy: 0.4167\n",
            "Epoch 7/250\n",
            "41/41 [==============================] - 1s 18ms/step - loss: 1.3201 - accuracy: 0.4992 - val_loss: 1.5145 - val_accuracy: 0.4306\n",
            "Epoch 8/250\n",
            "41/41 [==============================] - 1s 19ms/step - loss: 1.3180 - accuracy: 0.5224 - val_loss: 1.4781 - val_accuracy: 0.4375\n",
            "Epoch 9/250\n",
            "41/41 [==============================] - 1s 19ms/step - loss: 1.2465 - accuracy: 0.5401 - val_loss: 1.4517 - val_accuracy: 0.4444\n",
            "Epoch 10/250\n",
            "41/41 [==============================] - 1s 19ms/step - loss: 1.2043 - accuracy: 0.5486 - val_loss: 1.4947 - val_accuracy: 0.4583\n",
            "Epoch 11/250\n",
            "41/41 [==============================] - 1s 19ms/step - loss: 1.1574 - accuracy: 0.5725 - val_loss: 1.3386 - val_accuracy: 0.4514\n",
            "Epoch 12/250\n",
            "41/41 [==============================] - 1s 19ms/step - loss: 1.1502 - accuracy: 0.5764 - val_loss: 1.3915 - val_accuracy: 0.4514\n",
            "Epoch 13/250\n",
            "41/41 [==============================] - 1s 20ms/step - loss: 1.0921 - accuracy: 0.5741 - val_loss: 1.3978 - val_accuracy: 0.4444\n",
            "Epoch 14/250\n",
            "41/41 [==============================] - 1s 20ms/step - loss: 1.1096 - accuracy: 0.5880 - val_loss: 1.3565 - val_accuracy: 0.5139\n",
            "Epoch 15/250\n",
            "41/41 [==============================] - 1s 20ms/step - loss: 1.1109 - accuracy: 0.5965 - val_loss: 1.3608 - val_accuracy: 0.4792\n",
            "Epoch 16/250\n",
            "41/41 [==============================] - 1s 20ms/step - loss: 1.0548 - accuracy: 0.5965 - val_loss: 1.3656 - val_accuracy: 0.4722\n",
            "Epoch 17/250\n",
            "41/41 [==============================] - 1s 20ms/step - loss: 1.0988 - accuracy: 0.5764 - val_loss: 1.3064 - val_accuracy: 0.4444\n",
            "Epoch 18/250\n",
            "41/41 [==============================] - 1s 20ms/step - loss: 1.0084 - accuracy: 0.6211 - val_loss: 1.3724 - val_accuracy: 0.4653\n",
            "Epoch 19/250\n",
            "41/41 [==============================] - 1s 20ms/step - loss: 0.9976 - accuracy: 0.6427 - val_loss: 1.3207 - val_accuracy: 0.4931\n",
            "Epoch 20/250\n",
            "41/41 [==============================] - 1s 20ms/step - loss: 1.0381 - accuracy: 0.6119 - val_loss: 1.3120 - val_accuracy: 0.4861\n",
            "Epoch 21/250\n",
            "41/41 [==============================] - 1s 20ms/step - loss: 1.0919 - accuracy: 0.6034 - val_loss: 1.4934 - val_accuracy: 0.4375\n",
            "Epoch 22/250\n",
            "41/41 [==============================] - 1s 21ms/step - loss: 1.0217 - accuracy: 0.6142 - val_loss: 1.4531 - val_accuracy: 0.4583\n",
            "Epoch 23/250\n",
            "41/41 [==============================] - 1s 19ms/step - loss: 0.9588 - accuracy: 0.6528 - val_loss: 1.4074 - val_accuracy: 0.4583\n",
            "Epoch 24/250\n",
            "41/41 [==============================] - 1s 20ms/step - loss: 0.9731 - accuracy: 0.6273 - val_loss: 1.5453 - val_accuracy: 0.4444\n",
            "Epoch 25/250\n",
            "41/41 [==============================] - 1s 20ms/step - loss: 0.9535 - accuracy: 0.6412 - val_loss: 1.4378 - val_accuracy: 0.4722\n",
            "Epoch 26/250\n",
            "41/41 [==============================] - 1s 20ms/step - loss: 0.9165 - accuracy: 0.6644 - val_loss: 1.3740 - val_accuracy: 0.4653\n",
            "Epoch 27/250\n",
            "41/41 [==============================] - 1s 20ms/step - loss: 0.9204 - accuracy: 0.6597 - val_loss: 1.4083 - val_accuracy: 0.5139\n",
            "Epoch 28/250\n",
            "41/41 [==============================] - 1s 20ms/step - loss: 0.9404 - accuracy: 0.6412 - val_loss: 1.2963 - val_accuracy: 0.4861\n",
            "Epoch 29/250\n",
            "41/41 [==============================] - 1s 19ms/step - loss: 0.8808 - accuracy: 0.6744 - val_loss: 1.3329 - val_accuracy: 0.5069\n",
            "Epoch 30/250\n",
            "41/41 [==============================] - 1s 19ms/step - loss: 0.8781 - accuracy: 0.6767 - val_loss: 1.5463 - val_accuracy: 0.4722\n",
            "Epoch 31/250\n",
            "41/41 [==============================] - 1s 20ms/step - loss: 0.8855 - accuracy: 0.6713 - val_loss: 1.3626 - val_accuracy: 0.5069\n",
            "Epoch 32/250\n",
            "41/41 [==============================] - 1s 21ms/step - loss: 0.8629 - accuracy: 0.6829 - val_loss: 1.4841 - val_accuracy: 0.4792\n",
            "Epoch 33/250\n",
            "41/41 [==============================] - 1s 19ms/step - loss: 0.8905 - accuracy: 0.6613 - val_loss: 1.5071 - val_accuracy: 0.5069\n",
            "Epoch 34/250\n",
            "41/41 [==============================] - 1s 19ms/step - loss: 0.9108 - accuracy: 0.6744 - val_loss: 1.4025 - val_accuracy: 0.4653\n",
            "Epoch 35/250\n",
            "41/41 [==============================] - 1s 19ms/step - loss: 0.8732 - accuracy: 0.6759 - val_loss: 1.4135 - val_accuracy: 0.4861\n",
            "Epoch 36/250\n",
            "41/41 [==============================] - 1s 20ms/step - loss: 0.8675 - accuracy: 0.6844 - val_loss: 1.4109 - val_accuracy: 0.4792\n",
            "Epoch 37/250\n",
            "41/41 [==============================] - 1s 20ms/step - loss: 0.8098 - accuracy: 0.7114 - val_loss: 1.4470 - val_accuracy: 0.5139\n",
            "Epoch 38/250\n",
            "41/41 [==============================] - 1s 19ms/step - loss: 0.8489 - accuracy: 0.6813 - val_loss: 1.5792 - val_accuracy: 0.5000\n",
            "Epoch 39/250\n",
            "41/41 [==============================] - 1s 19ms/step - loss: 0.8337 - accuracy: 0.6921 - val_loss: 1.6178 - val_accuracy: 0.4583\n",
            "Epoch 40/250\n",
            "41/41 [==============================] - 1s 19ms/step - loss: 0.8118 - accuracy: 0.7083 - val_loss: 1.5569 - val_accuracy: 0.5139\n",
            "Epoch 41/250\n",
            "41/41 [==============================] - 1s 19ms/step - loss: 0.8299 - accuracy: 0.6914 - val_loss: 1.5425 - val_accuracy: 0.4861\n",
            "Epoch 42/250\n",
            "41/41 [==============================] - 1s 19ms/step - loss: 0.8140 - accuracy: 0.6975 - val_loss: 1.5897 - val_accuracy: 0.5278\n",
            "Epoch 43/250\n",
            "41/41 [==============================] - 1s 19ms/step - loss: 0.7537 - accuracy: 0.7284 - val_loss: 1.6036 - val_accuracy: 0.4653\n",
            "Epoch 44/250\n",
            "41/41 [==============================] - 1s 19ms/step - loss: 0.7383 - accuracy: 0.7222 - val_loss: 1.6907 - val_accuracy: 0.4722\n",
            "Epoch 45/250\n",
            "41/41 [==============================] - 1s 18ms/step - loss: 0.7594 - accuracy: 0.7284 - val_loss: 1.5866 - val_accuracy: 0.5069\n",
            "Epoch 46/250\n",
            "41/41 [==============================] - 1s 18ms/step - loss: 0.8169 - accuracy: 0.6968 - val_loss: 1.4779 - val_accuracy: 0.4931\n",
            "Epoch 47/250\n",
            "41/41 [==============================] - 1s 20ms/step - loss: 0.7745 - accuracy: 0.7137 - val_loss: 1.6033 - val_accuracy: 0.4861\n",
            "Epoch 48/250\n",
            "41/41 [==============================] - 1s 20ms/step - loss: 0.7375 - accuracy: 0.7253 - val_loss: 1.4958 - val_accuracy: 0.5069\n",
            "Epoch 49/250\n",
            "41/41 [==============================] - 1s 19ms/step - loss: 0.7056 - accuracy: 0.7369 - val_loss: 1.6388 - val_accuracy: 0.4653\n",
            "Epoch 50/250\n",
            "41/41 [==============================] - 1s 20ms/step - loss: 0.7639 - accuracy: 0.7207 - val_loss: 1.5679 - val_accuracy: 0.4792\n",
            "Epoch 51/250\n",
            "41/41 [==============================] - 1s 20ms/step - loss: 0.7397 - accuracy: 0.7207 - val_loss: 1.6573 - val_accuracy: 0.4792\n",
            "Epoch 52/250\n",
            "41/41 [==============================] - 1s 20ms/step - loss: 0.7058 - accuracy: 0.7346 - val_loss: 1.6633 - val_accuracy: 0.4792\n",
            "Epoch 53/250\n",
            "41/41 [==============================] - 1s 20ms/step - loss: 0.6696 - accuracy: 0.7670 - val_loss: 1.6476 - val_accuracy: 0.5069\n",
            "Epoch 54/250\n",
            "41/41 [==============================] - 1s 20ms/step - loss: 0.6851 - accuracy: 0.7377 - val_loss: 1.6785 - val_accuracy: 0.5069\n",
            "Epoch 55/250\n",
            "41/41 [==============================] - 1s 19ms/step - loss: 0.7113 - accuracy: 0.7230 - val_loss: 1.7916 - val_accuracy: 0.4931\n",
            "Epoch 56/250\n",
            "41/41 [==============================] - 1s 20ms/step - loss: 0.7040 - accuracy: 0.7392 - val_loss: 1.7003 - val_accuracy: 0.5139\n",
            "Epoch 57/250\n",
            "41/41 [==============================] - 1s 21ms/step - loss: 0.7059 - accuracy: 0.7431 - val_loss: 1.7335 - val_accuracy: 0.4931\n",
            "Epoch 58/250\n",
            "41/41 [==============================] - 1s 19ms/step - loss: 0.6977 - accuracy: 0.7253 - val_loss: 1.7629 - val_accuracy: 0.5069\n",
            "Epoch 59/250\n",
            "41/41 [==============================] - 1s 20ms/step - loss: 0.6662 - accuracy: 0.7569 - val_loss: 1.7707 - val_accuracy: 0.4583\n",
            "Epoch 60/250\n",
            "41/41 [==============================] - 1s 19ms/step - loss: 0.6493 - accuracy: 0.7531 - val_loss: 1.7249 - val_accuracy: 0.5278\n",
            "Epoch 61/250\n",
            "41/41 [==============================] - 1s 20ms/step - loss: 0.6695 - accuracy: 0.7500 - val_loss: 1.7547 - val_accuracy: 0.5069\n",
            "Epoch 62/250\n",
            "41/41 [==============================] - 1s 20ms/step - loss: 0.6186 - accuracy: 0.7762 - val_loss: 1.8619 - val_accuracy: 0.4792\n",
            "Epoch 63/250\n",
            "41/41 [==============================] - 1s 20ms/step - loss: 0.6311 - accuracy: 0.7755 - val_loss: 1.8888 - val_accuracy: 0.5000\n",
            "Epoch 64/250\n",
            "41/41 [==============================] - 1s 20ms/step - loss: 0.6500 - accuracy: 0.7523 - val_loss: 1.8174 - val_accuracy: 0.4861\n",
            "Epoch 65/250\n",
            "41/41 [==============================] - 1s 19ms/step - loss: 0.6159 - accuracy: 0.7778 - val_loss: 2.0008 - val_accuracy: 0.4722\n",
            "Epoch 66/250\n",
            "41/41 [==============================] - 1s 20ms/step - loss: 0.6539 - accuracy: 0.7461 - val_loss: 2.0169 - val_accuracy: 0.4514\n",
            "Epoch 67/250\n",
            "41/41 [==============================] - 1s 20ms/step - loss: 0.6053 - accuracy: 0.7724 - val_loss: 1.9961 - val_accuracy: 0.4861\n",
            "Epoch 68/250\n",
            "41/41 [==============================] - 1s 19ms/step - loss: 0.6145 - accuracy: 0.7654 - val_loss: 1.8651 - val_accuracy: 0.4722\n",
            "Epoch 69/250\n",
            "41/41 [==============================] - 1s 20ms/step - loss: 0.6299 - accuracy: 0.7662 - val_loss: 1.8714 - val_accuracy: 0.4861\n",
            "Epoch 70/250\n",
            "41/41 [==============================] - 1s 20ms/step - loss: 0.6681 - accuracy: 0.7523 - val_loss: 1.8585 - val_accuracy: 0.4931\n",
            "Epoch 71/250\n",
            "41/41 [==============================] - 1s 21ms/step - loss: 0.5371 - accuracy: 0.7955 - val_loss: 2.0808 - val_accuracy: 0.4722\n",
            "Epoch 72/250\n",
            "41/41 [==============================] - 1s 21ms/step - loss: 0.5899 - accuracy: 0.7909 - val_loss: 1.9402 - val_accuracy: 0.4375\n",
            "Epoch 73/250\n",
            "41/41 [==============================] - 1s 21ms/step - loss: 0.5925 - accuracy: 0.7724 - val_loss: 1.9711 - val_accuracy: 0.5208\n",
            "Epoch 74/250\n",
            "41/41 [==============================] - 1s 20ms/step - loss: 0.6058 - accuracy: 0.7824 - val_loss: 1.7551 - val_accuracy: 0.4792\n",
            "Epoch 75/250\n",
            "41/41 [==============================] - 1s 20ms/step - loss: 0.6011 - accuracy: 0.7739 - val_loss: 1.9046 - val_accuracy: 0.4861\n",
            "Epoch 76/250\n",
            "41/41 [==============================] - 1s 20ms/step - loss: 0.6070 - accuracy: 0.7755 - val_loss: 1.8328 - val_accuracy: 0.5208\n",
            "Epoch 77/250\n",
            "41/41 [==============================] - 1s 21ms/step - loss: 0.5572 - accuracy: 0.7840 - val_loss: 1.8734 - val_accuracy: 0.5069\n",
            "Epoch 78/250\n",
            "41/41 [==============================] - 1s 20ms/step - loss: 0.5766 - accuracy: 0.7801 - val_loss: 1.8954 - val_accuracy: 0.4514\n",
            "Epoch 79/250\n",
            "41/41 [==============================] - 1s 21ms/step - loss: 0.5290 - accuracy: 0.8002 - val_loss: 2.0636 - val_accuracy: 0.4722\n",
            "Epoch 80/250\n",
            "41/41 [==============================] - 1s 19ms/step - loss: 0.5312 - accuracy: 0.8117 - val_loss: 2.0743 - val_accuracy: 0.4653\n",
            "Epoch 81/250\n",
            "41/41 [==============================] - 1s 19ms/step - loss: 0.5592 - accuracy: 0.8048 - val_loss: 2.0716 - val_accuracy: 0.4931\n",
            "Epoch 82/250\n",
            "41/41 [==============================] - 1s 20ms/step - loss: 0.4955 - accuracy: 0.8063 - val_loss: 1.9853 - val_accuracy: 0.4792\n",
            "Epoch 83/250\n",
            "41/41 [==============================] - 1s 20ms/step - loss: 0.5256 - accuracy: 0.7994 - val_loss: 2.2208 - val_accuracy: 0.4931\n",
            "Epoch 84/250\n",
            "41/41 [==============================] - 1s 20ms/step - loss: 0.5916 - accuracy: 0.7770 - val_loss: 1.8434 - val_accuracy: 0.4792\n",
            "Epoch 85/250\n",
            "41/41 [==============================] - 1s 20ms/step - loss: 0.5913 - accuracy: 0.7778 - val_loss: 2.1373 - val_accuracy: 0.4861\n",
            "Epoch 86/250\n",
            "41/41 [==============================] - 1s 20ms/step - loss: 0.5346 - accuracy: 0.8148 - val_loss: 2.1022 - val_accuracy: 0.4792\n",
            "Epoch 87/250\n",
            "41/41 [==============================] - 1s 20ms/step - loss: 0.4755 - accuracy: 0.8194 - val_loss: 2.2360 - val_accuracy: 0.4722\n",
            "Epoch 88/250\n",
            "41/41 [==============================] - 1s 20ms/step - loss: 0.5092 - accuracy: 0.8102 - val_loss: 2.0937 - val_accuracy: 0.4861\n",
            "Epoch 89/250\n",
            "41/41 [==============================] - 1s 19ms/step - loss: 0.6274 - accuracy: 0.7724 - val_loss: 1.9845 - val_accuracy: 0.5000\n",
            "Epoch 90/250\n",
            "41/41 [==============================] - 1s 19ms/step - loss: 0.4807 - accuracy: 0.8364 - val_loss: 2.2539 - val_accuracy: 0.4167\n",
            "Epoch 91/250\n",
            "41/41 [==============================] - 1s 19ms/step - loss: 0.5973 - accuracy: 0.7755 - val_loss: 2.3519 - val_accuracy: 0.4861\n",
            "Epoch 92/250\n",
            "41/41 [==============================] - 1s 20ms/step - loss: 0.5042 - accuracy: 0.8164 - val_loss: 2.1210 - val_accuracy: 0.4444\n",
            "Epoch 93/250\n",
            "41/41 [==============================] - 1s 20ms/step - loss: 0.4893 - accuracy: 0.8279 - val_loss: 2.4013 - val_accuracy: 0.4444\n",
            "Epoch 94/250\n",
            "41/41 [==============================] - 1s 21ms/step - loss: 0.5460 - accuracy: 0.8032 - val_loss: 2.0770 - val_accuracy: 0.4375\n",
            "Epoch 95/250\n",
            "41/41 [==============================] - 1s 20ms/step - loss: 0.5263 - accuracy: 0.8133 - val_loss: 2.2353 - val_accuracy: 0.4444\n",
            "Epoch 96/250\n",
            "41/41 [==============================] - 1s 20ms/step - loss: 0.4535 - accuracy: 0.8241 - val_loss: 2.2825 - val_accuracy: 0.4583\n",
            "Epoch 97/250\n",
            "41/41 [==============================] - 1s 21ms/step - loss: 0.5233 - accuracy: 0.8002 - val_loss: 2.4095 - val_accuracy: 0.4722\n",
            "Epoch 98/250\n",
            "41/41 [==============================] - 1s 20ms/step - loss: 0.4901 - accuracy: 0.8133 - val_loss: 2.4381 - val_accuracy: 0.4444\n",
            "Epoch 99/250\n",
            "41/41 [==============================] - 1s 20ms/step - loss: 0.4909 - accuracy: 0.8287 - val_loss: 2.3769 - val_accuracy: 0.4861\n",
            "Epoch 100/250\n",
            "41/41 [==============================] - 1s 21ms/step - loss: 0.4925 - accuracy: 0.8156 - val_loss: 2.1235 - val_accuracy: 0.4931\n",
            "Epoch 101/250\n",
            "41/41 [==============================] - 1s 20ms/step - loss: 0.4421 - accuracy: 0.8326 - val_loss: 2.5405 - val_accuracy: 0.4514\n",
            "Epoch 102/250\n",
            "41/41 [==============================] - 1s 20ms/step - loss: 0.4677 - accuracy: 0.8264 - val_loss: 2.2702 - val_accuracy: 0.4653\n",
            "Epoch 103/250\n",
            "41/41 [==============================] - 1s 21ms/step - loss: 0.4594 - accuracy: 0.8210 - val_loss: 2.2766 - val_accuracy: 0.4792\n",
            "Epoch 104/250\n",
            "41/41 [==============================] - 1s 21ms/step - loss: 0.4870 - accuracy: 0.8194 - val_loss: 2.3252 - val_accuracy: 0.4375\n",
            "Epoch 105/250\n",
            "41/41 [==============================] - 1s 20ms/step - loss: 0.4439 - accuracy: 0.8395 - val_loss: 2.5458 - val_accuracy: 0.4375\n",
            "Epoch 106/250\n",
            "41/41 [==============================] - 1s 20ms/step - loss: 0.5097 - accuracy: 0.8179 - val_loss: 2.1829 - val_accuracy: 0.4792\n",
            "Epoch 107/250\n",
            "41/41 [==============================] - 1s 20ms/step - loss: 0.4584 - accuracy: 0.8225 - val_loss: 2.2953 - val_accuracy: 0.4792\n",
            "Epoch 108/250\n",
            "41/41 [==============================] - 1s 21ms/step - loss: 0.4572 - accuracy: 0.8241 - val_loss: 2.2319 - val_accuracy: 0.4514\n",
            "Epoch 109/250\n",
            "41/41 [==============================] - 1s 20ms/step - loss: 0.4410 - accuracy: 0.8403 - val_loss: 2.5056 - val_accuracy: 0.4306\n",
            "Epoch 110/250\n",
            "41/41 [==============================] - 1s 20ms/step - loss: 0.3944 - accuracy: 0.8588 - val_loss: 2.5681 - val_accuracy: 0.4861\n",
            "Epoch 111/250\n",
            "41/41 [==============================] - 1s 20ms/step - loss: 0.3800 - accuracy: 0.8619 - val_loss: 2.5699 - val_accuracy: 0.4792\n",
            "Epoch 112/250\n",
            "41/41 [==============================] - 1s 20ms/step - loss: 0.4981 - accuracy: 0.8187 - val_loss: 2.4271 - val_accuracy: 0.4792\n",
            "Epoch 113/250\n",
            "41/41 [==============================] - 1s 20ms/step - loss: 0.4433 - accuracy: 0.8356 - val_loss: 2.6005 - val_accuracy: 0.5000\n",
            "Epoch 114/250\n",
            "41/41 [==============================] - 1s 21ms/step - loss: 0.4202 - accuracy: 0.8488 - val_loss: 2.3584 - val_accuracy: 0.4722\n",
            "Epoch 115/250\n",
            "41/41 [==============================] - 1s 20ms/step - loss: 0.3941 - accuracy: 0.8580 - val_loss: 2.6930 - val_accuracy: 0.4653\n",
            "Epoch 116/250\n",
            "41/41 [==============================] - 1s 21ms/step - loss: 0.4717 - accuracy: 0.8333 - val_loss: 2.4158 - val_accuracy: 0.5000\n",
            "Epoch 117/250\n",
            "41/41 [==============================] - 1s 20ms/step - loss: 0.4045 - accuracy: 0.8457 - val_loss: 2.4262 - val_accuracy: 0.4583\n",
            "Epoch 118/250\n",
            "41/41 [==============================] - 1s 19ms/step - loss: 0.3992 - accuracy: 0.8588 - val_loss: 2.6081 - val_accuracy: 0.4583\n",
            "Epoch 119/250\n",
            "41/41 [==============================] - 1s 19ms/step - loss: 0.4988 - accuracy: 0.8048 - val_loss: 2.6369 - val_accuracy: 0.4167\n",
            "Epoch 120/250\n",
            "41/41 [==============================] - 1s 19ms/step - loss: 0.4145 - accuracy: 0.8465 - val_loss: 2.5323 - val_accuracy: 0.4514\n",
            "Epoch 121/250\n",
            "41/41 [==============================] - 1s 20ms/step - loss: 0.3768 - accuracy: 0.8565 - val_loss: 2.5783 - val_accuracy: 0.4583\n",
            "Epoch 122/250\n",
            "41/41 [==============================] - 1s 20ms/step - loss: 0.4094 - accuracy: 0.8534 - val_loss: 2.3101 - val_accuracy: 0.4583\n",
            "Epoch 123/250\n",
            "41/41 [==============================] - 1s 20ms/step - loss: 0.3736 - accuracy: 0.8503 - val_loss: 2.8363 - val_accuracy: 0.4375\n",
            "Epoch 124/250\n",
            "41/41 [==============================] - 1s 20ms/step - loss: 0.4850 - accuracy: 0.8241 - val_loss: 2.3421 - val_accuracy: 0.4375\n",
            "Epoch 125/250\n",
            "41/41 [==============================] - 1s 20ms/step - loss: 0.4327 - accuracy: 0.8472 - val_loss: 2.5986 - val_accuracy: 0.4514\n",
            "Epoch 126/250\n",
            "41/41 [==============================] - 1s 19ms/step - loss: 0.4174 - accuracy: 0.8395 - val_loss: 2.5197 - val_accuracy: 0.4236\n",
            "Epoch 127/250\n",
            "41/41 [==============================] - 1s 20ms/step - loss: 0.3993 - accuracy: 0.8480 - val_loss: 2.4836 - val_accuracy: 0.4514\n",
            "Epoch 128/250\n",
            "41/41 [==============================] - 1s 19ms/step - loss: 0.3743 - accuracy: 0.8596 - val_loss: 2.9251 - val_accuracy: 0.4444\n",
            "Epoch 129/250\n",
            "41/41 [==============================] - 1s 21ms/step - loss: 0.4352 - accuracy: 0.8503 - val_loss: 2.4672 - val_accuracy: 0.4583\n",
            "Epoch 130/250\n",
            "41/41 [==============================] - 1s 20ms/step - loss: 0.4229 - accuracy: 0.8488 - val_loss: 2.5218 - val_accuracy: 0.5000\n",
            "Epoch 131/250\n",
            "41/41 [==============================] - 1s 20ms/step - loss: 0.3944 - accuracy: 0.8627 - val_loss: 2.6797 - val_accuracy: 0.4792\n",
            "Epoch 132/250\n",
            "41/41 [==============================] - 1s 20ms/step - loss: 0.4111 - accuracy: 0.8519 - val_loss: 2.4994 - val_accuracy: 0.5000\n",
            "Epoch 133/250\n",
            "41/41 [==============================] - 1s 21ms/step - loss: 0.3900 - accuracy: 0.8627 - val_loss: 2.5876 - val_accuracy: 0.4653\n",
            "Epoch 134/250\n",
            "41/41 [==============================] - 1s 20ms/step - loss: 0.3532 - accuracy: 0.8727 - val_loss: 2.7381 - val_accuracy: 0.4583\n",
            "Epoch 135/250\n",
            "41/41 [==============================] - 1s 21ms/step - loss: 0.3980 - accuracy: 0.8503 - val_loss: 2.5381 - val_accuracy: 0.4444\n",
            "Epoch 136/250\n",
            "41/41 [==============================] - 1s 21ms/step - loss: 0.3827 - accuracy: 0.8526 - val_loss: 2.5653 - val_accuracy: 0.4722\n",
            "Epoch 137/250\n",
            "41/41 [==============================] - 1s 21ms/step - loss: 0.4032 - accuracy: 0.8488 - val_loss: 2.6504 - val_accuracy: 0.4167\n",
            "Epoch 138/250\n",
            "41/41 [==============================] - 1s 20ms/step - loss: 0.3779 - accuracy: 0.8573 - val_loss: 2.6499 - val_accuracy: 0.4514\n",
            "Epoch 139/250\n",
            "41/41 [==============================] - 1s 20ms/step - loss: 0.3493 - accuracy: 0.8719 - val_loss: 2.8721 - val_accuracy: 0.4236\n",
            "Epoch 140/250\n",
            "41/41 [==============================] - 1s 20ms/step - loss: 0.3555 - accuracy: 0.8596 - val_loss: 2.9009 - val_accuracy: 0.4306\n",
            "Epoch 141/250\n",
            "41/41 [==============================] - 1s 19ms/step - loss: 0.3646 - accuracy: 0.8727 - val_loss: 2.9087 - val_accuracy: 0.4514\n",
            "Epoch 142/250\n",
            "41/41 [==============================] - 1s 19ms/step - loss: 0.3424 - accuracy: 0.8773 - val_loss: 2.8017 - val_accuracy: 0.4722\n",
            "Epoch 143/250\n",
            "41/41 [==============================] - 1s 20ms/step - loss: 0.3922 - accuracy: 0.8588 - val_loss: 3.1923 - val_accuracy: 0.4375\n",
            "Epoch 144/250\n",
            "41/41 [==============================] - 1s 20ms/step - loss: 0.4482 - accuracy: 0.8403 - val_loss: 2.9086 - val_accuracy: 0.4167\n",
            "Epoch 145/250\n",
            "41/41 [==============================] - 1s 20ms/step - loss: 0.2974 - accuracy: 0.8951 - val_loss: 2.8745 - val_accuracy: 0.4583\n",
            "Epoch 146/250\n",
            "41/41 [==============================] - 1s 20ms/step - loss: 0.4764 - accuracy: 0.8256 - val_loss: 2.8400 - val_accuracy: 0.4167\n",
            "Epoch 147/250\n",
            "41/41 [==============================] - 1s 19ms/step - loss: 0.3846 - accuracy: 0.8650 - val_loss: 2.6861 - val_accuracy: 0.4861\n",
            "Epoch 148/250\n",
            "41/41 [==============================] - 1s 19ms/step - loss: 0.3893 - accuracy: 0.8480 - val_loss: 2.7909 - val_accuracy: 0.4583\n",
            "Epoch 149/250\n",
            "41/41 [==============================] - 1s 19ms/step - loss: 0.3684 - accuracy: 0.8650 - val_loss: 2.7729 - val_accuracy: 0.4444\n",
            "Epoch 150/250\n",
            "41/41 [==============================] - 1s 19ms/step - loss: 0.3671 - accuracy: 0.8650 - val_loss: 2.6442 - val_accuracy: 0.4653\n",
            "Epoch 151/250\n",
            "41/41 [==============================] - 1s 20ms/step - loss: 0.3208 - accuracy: 0.8827 - val_loss: 2.9186 - val_accuracy: 0.4583\n",
            "Epoch 152/250\n",
            "41/41 [==============================] - 1s 20ms/step - loss: 0.3335 - accuracy: 0.8796 - val_loss: 3.1415 - val_accuracy: 0.4375\n",
            "Epoch 153/250\n",
            "41/41 [==============================] - 1s 19ms/step - loss: 0.4357 - accuracy: 0.8418 - val_loss: 2.8232 - val_accuracy: 0.4444\n",
            "Epoch 154/250\n",
            "41/41 [==============================] - 1s 20ms/step - loss: 0.3827 - accuracy: 0.8557 - val_loss: 2.8827 - val_accuracy: 0.4306\n",
            "Epoch 155/250\n",
            "41/41 [==============================] - 1s 19ms/step - loss: 0.2706 - accuracy: 0.8989 - val_loss: 3.0709 - val_accuracy: 0.4514\n",
            "Epoch 156/250\n",
            "41/41 [==============================] - 1s 20ms/step - loss: 0.3420 - accuracy: 0.8688 - val_loss: 3.0881 - val_accuracy: 0.4167\n",
            "Epoch 157/250\n",
            "41/41 [==============================] - 1s 22ms/step - loss: 0.3389 - accuracy: 0.8742 - val_loss: 3.1137 - val_accuracy: 0.5000\n",
            "Epoch 158/250\n",
            "41/41 [==============================] - 1s 21ms/step - loss: 0.3098 - accuracy: 0.8858 - val_loss: 3.0458 - val_accuracy: 0.4792\n",
            "Epoch 159/250\n",
            "41/41 [==============================] - 1s 20ms/step - loss: 0.3484 - accuracy: 0.8750 - val_loss: 2.9422 - val_accuracy: 0.4583\n",
            "Epoch 160/250\n",
            "41/41 [==============================] - 1s 19ms/step - loss: 0.3402 - accuracy: 0.8773 - val_loss: 3.1988 - val_accuracy: 0.4444\n",
            "Epoch 161/250\n",
            "41/41 [==============================] - 1s 21ms/step - loss: 0.3386 - accuracy: 0.8827 - val_loss: 2.8007 - val_accuracy: 0.4236\n",
            "Epoch 162/250\n",
            "41/41 [==============================] - 1s 20ms/step - loss: 0.3164 - accuracy: 0.8819 - val_loss: 3.3050 - val_accuracy: 0.4444\n",
            "Epoch 163/250\n",
            "41/41 [==============================] - 1s 21ms/step - loss: 0.3323 - accuracy: 0.8765 - val_loss: 2.8308 - val_accuracy: 0.4792\n",
            "Epoch 164/250\n",
            "41/41 [==============================] - 1s 20ms/step - loss: 0.3326 - accuracy: 0.8765 - val_loss: 3.2176 - val_accuracy: 0.4236\n",
            "Epoch 165/250\n",
            "41/41 [==============================] - 1s 21ms/step - loss: 0.4291 - accuracy: 0.8472 - val_loss: 2.9003 - val_accuracy: 0.4583\n",
            "Epoch 166/250\n",
            "41/41 [==============================] - 1s 20ms/step - loss: 0.3563 - accuracy: 0.8804 - val_loss: 3.0343 - val_accuracy: 0.4653\n",
            "Epoch 167/250\n",
            "41/41 [==============================] - 1s 20ms/step - loss: 0.2879 - accuracy: 0.8943 - val_loss: 3.1161 - val_accuracy: 0.4375\n",
            "Epoch 168/250\n",
            "41/41 [==============================] - 1s 20ms/step - loss: 0.3447 - accuracy: 0.8742 - val_loss: 3.1272 - val_accuracy: 0.4444\n",
            "Epoch 169/250\n",
            "41/41 [==============================] - 1s 21ms/step - loss: 0.3456 - accuracy: 0.8673 - val_loss: 2.9540 - val_accuracy: 0.4583\n",
            "Epoch 170/250\n",
            "41/41 [==============================] - 1s 20ms/step - loss: 0.2882 - accuracy: 0.8889 - val_loss: 3.3556 - val_accuracy: 0.4583\n",
            "Epoch 171/250\n",
            "41/41 [==============================] - 1s 20ms/step - loss: 0.3865 - accuracy: 0.8619 - val_loss: 2.9347 - val_accuracy: 0.4375\n",
            "Epoch 172/250\n",
            "41/41 [==============================] - 1s 20ms/step - loss: 0.3770 - accuracy: 0.8565 - val_loss: 3.0454 - val_accuracy: 0.4306\n",
            "Epoch 173/250\n",
            "41/41 [==============================] - 1s 21ms/step - loss: 0.3156 - accuracy: 0.8827 - val_loss: 3.2676 - val_accuracy: 0.4306\n",
            "Epoch 174/250\n",
            "41/41 [==============================] - 1s 20ms/step - loss: 0.2845 - accuracy: 0.8920 - val_loss: 3.0035 - val_accuracy: 0.4722\n",
            "Epoch 175/250\n",
            "41/41 [==============================] - 1s 19ms/step - loss: 0.3663 - accuracy: 0.8735 - val_loss: 2.9457 - val_accuracy: 0.4375\n",
            "Epoch 176/250\n",
            "41/41 [==============================] - 1s 21ms/step - loss: 0.3104 - accuracy: 0.8812 - val_loss: 3.0618 - val_accuracy: 0.4792\n",
            "Epoch 177/250\n",
            "41/41 [==============================] - 1s 20ms/step - loss: 0.3852 - accuracy: 0.8596 - val_loss: 3.1539 - val_accuracy: 0.4167\n",
            "Epoch 178/250\n",
            "41/41 [==============================] - 1s 20ms/step - loss: 0.2906 - accuracy: 0.8858 - val_loss: 3.0452 - val_accuracy: 0.4306\n",
            "Epoch 179/250\n",
            "41/41 [==============================] - 1s 21ms/step - loss: 0.3611 - accuracy: 0.8627 - val_loss: 3.0421 - val_accuracy: 0.4444\n",
            "Epoch 180/250\n",
            "41/41 [==============================] - 1s 20ms/step - loss: 0.3097 - accuracy: 0.8804 - val_loss: 3.2090 - val_accuracy: 0.4583\n",
            "Epoch 181/250\n",
            "41/41 [==============================] - 1s 20ms/step - loss: 0.2942 - accuracy: 0.8912 - val_loss: 3.1470 - val_accuracy: 0.4375\n",
            "Epoch 182/250\n",
            "41/41 [==============================] - 1s 20ms/step - loss: 0.2797 - accuracy: 0.8912 - val_loss: 3.2270 - val_accuracy: 0.4444\n",
            "Epoch 183/250\n",
            "41/41 [==============================] - 1s 20ms/step - loss: 0.2996 - accuracy: 0.8904 - val_loss: 2.9347 - val_accuracy: 0.4583\n",
            "Epoch 184/250\n",
            "41/41 [==============================] - 1s 19ms/step - loss: 0.3135 - accuracy: 0.8927 - val_loss: 3.1640 - val_accuracy: 0.3958\n",
            "Epoch 185/250\n",
            "41/41 [==============================] - 1s 20ms/step - loss: 0.3108 - accuracy: 0.8835 - val_loss: 3.3019 - val_accuracy: 0.4236\n",
            "Epoch 186/250\n",
            "41/41 [==============================] - 1s 20ms/step - loss: 0.2738 - accuracy: 0.9020 - val_loss: 3.2111 - val_accuracy: 0.4583\n",
            "Epoch 187/250\n",
            "41/41 [==============================] - 1s 20ms/step - loss: 0.3229 - accuracy: 0.8750 - val_loss: 3.2589 - val_accuracy: 0.4306\n",
            "Epoch 188/250\n",
            "41/41 [==============================] - 1s 20ms/step - loss: 0.3591 - accuracy: 0.8696 - val_loss: 3.4429 - val_accuracy: 0.4514\n",
            "Epoch 189/250\n",
            "41/41 [==============================] - 1s 20ms/step - loss: 0.3490 - accuracy: 0.8758 - val_loss: 3.3878 - val_accuracy: 0.4167\n",
            "Epoch 190/250\n",
            "41/41 [==============================] - 1s 20ms/step - loss: 0.3251 - accuracy: 0.8827 - val_loss: 3.2147 - val_accuracy: 0.4444\n",
            "Epoch 191/250\n",
            "41/41 [==============================] - 1s 20ms/step - loss: 0.3510 - accuracy: 0.8742 - val_loss: 2.9529 - val_accuracy: 0.4444\n",
            "Epoch 192/250\n",
            "41/41 [==============================] - 1s 20ms/step - loss: 0.3128 - accuracy: 0.8912 - val_loss: 3.0658 - val_accuracy: 0.4375\n",
            "Epoch 193/250\n",
            "41/41 [==============================] - 1s 20ms/step - loss: 0.2879 - accuracy: 0.9005 - val_loss: 2.9478 - val_accuracy: 0.4653\n",
            "Epoch 194/250\n",
            "41/41 [==============================] - 1s 20ms/step - loss: 0.2450 - accuracy: 0.9090 - val_loss: 2.9934 - val_accuracy: 0.4514\n",
            "Epoch 195/250\n",
            "41/41 [==============================] - 1s 20ms/step - loss: 0.3516 - accuracy: 0.8642 - val_loss: 3.0161 - val_accuracy: 0.4097\n",
            "Epoch 196/250\n",
            "41/41 [==============================] - 1s 20ms/step - loss: 0.3192 - accuracy: 0.8789 - val_loss: 3.4277 - val_accuracy: 0.4444\n",
            "Epoch 197/250\n",
            "41/41 [==============================] - 1s 20ms/step - loss: 0.2774 - accuracy: 0.8935 - val_loss: 3.0351 - val_accuracy: 0.4444\n",
            "Epoch 198/250\n",
            "41/41 [==============================] - 1s 21ms/step - loss: 0.2898 - accuracy: 0.8981 - val_loss: 3.3346 - val_accuracy: 0.4375\n",
            "Epoch 199/250\n",
            "41/41 [==============================] - 1s 20ms/step - loss: 0.2872 - accuracy: 0.8920 - val_loss: 3.3665 - val_accuracy: 0.4653\n",
            "Epoch 200/250\n",
            "41/41 [==============================] - 1s 21ms/step - loss: 0.3135 - accuracy: 0.8889 - val_loss: 3.1538 - val_accuracy: 0.4306\n",
            "Epoch 201/250\n",
            "41/41 [==============================] - 1s 21ms/step - loss: 0.2698 - accuracy: 0.8974 - val_loss: 3.2470 - val_accuracy: 0.4653\n",
            "Epoch 202/250\n",
            "41/41 [==============================] - 1s 20ms/step - loss: 0.2878 - accuracy: 0.8912 - val_loss: 3.6383 - val_accuracy: 0.4236\n",
            "Epoch 203/250\n",
            "41/41 [==============================] - 1s 20ms/step - loss: 0.2819 - accuracy: 0.9020 - val_loss: 3.7161 - val_accuracy: 0.4514\n",
            "Epoch 204/250\n",
            "41/41 [==============================] - 1s 21ms/step - loss: 0.2978 - accuracy: 0.8935 - val_loss: 3.4129 - val_accuracy: 0.4167\n",
            "Epoch 205/250\n",
            "41/41 [==============================] - 1s 21ms/step - loss: 0.3268 - accuracy: 0.8742 - val_loss: 3.5786 - val_accuracy: 0.4444\n",
            "Epoch 206/250\n",
            "41/41 [==============================] - 1s 21ms/step - loss: 0.2908 - accuracy: 0.8881 - val_loss: 3.3038 - val_accuracy: 0.4167\n",
            "Epoch 207/250\n",
            "41/41 [==============================] - 1s 21ms/step - loss: 0.2795 - accuracy: 0.8989 - val_loss: 3.4224 - val_accuracy: 0.4444\n",
            "Epoch 208/250\n",
            "41/41 [==============================] - 1s 20ms/step - loss: 0.3014 - accuracy: 0.8920 - val_loss: 3.3917 - val_accuracy: 0.4375\n",
            "Epoch 209/250\n",
            "41/41 [==============================] - 1s 20ms/step - loss: 0.3164 - accuracy: 0.8781 - val_loss: 3.5461 - val_accuracy: 0.4306\n",
            "Epoch 210/250\n",
            "41/41 [==============================] - 1s 20ms/step - loss: 0.3286 - accuracy: 0.8835 - val_loss: 3.4088 - val_accuracy: 0.4097\n",
            "Epoch 211/250\n",
            "41/41 [==============================] - 1s 20ms/step - loss: 0.2730 - accuracy: 0.9043 - val_loss: 3.2478 - val_accuracy: 0.4236\n",
            "Epoch 212/250\n",
            "41/41 [==============================] - 1s 21ms/step - loss: 0.2718 - accuracy: 0.9005 - val_loss: 3.4840 - val_accuracy: 0.4444\n",
            "Epoch 213/250\n",
            "41/41 [==============================] - 1s 20ms/step - loss: 0.2731 - accuracy: 0.9028 - val_loss: 3.6257 - val_accuracy: 0.4236\n",
            "Epoch 214/250\n",
            "41/41 [==============================] - 1s 20ms/step - loss: 0.3144 - accuracy: 0.8866 - val_loss: 3.6980 - val_accuracy: 0.3750\n",
            "Epoch 215/250\n",
            "41/41 [==============================] - 1s 20ms/step - loss: 0.4133 - accuracy: 0.8549 - val_loss: 3.0676 - val_accuracy: 0.4444\n",
            "Epoch 216/250\n",
            "41/41 [==============================] - 1s 22ms/step - loss: 0.3765 - accuracy: 0.8596 - val_loss: 3.1990 - val_accuracy: 0.4306\n",
            "Epoch 217/250\n",
            "41/41 [==============================] - 1s 22ms/step - loss: 0.2831 - accuracy: 0.8966 - val_loss: 3.1666 - val_accuracy: 0.4375\n",
            "Epoch 218/250\n",
            "41/41 [==============================] - 1s 21ms/step - loss: 0.2705 - accuracy: 0.9043 - val_loss: 3.3570 - val_accuracy: 0.4306\n",
            "Epoch 219/250\n",
            "41/41 [==============================] - 1s 20ms/step - loss: 0.2350 - accuracy: 0.9066 - val_loss: 3.6894 - val_accuracy: 0.4514\n",
            "Epoch 220/250\n",
            "41/41 [==============================] - 1s 20ms/step - loss: 0.2636 - accuracy: 0.9020 - val_loss: 3.4059 - val_accuracy: 0.4514\n",
            "Epoch 221/250\n",
            "41/41 [==============================] - 1s 21ms/step - loss: 0.2621 - accuracy: 0.9043 - val_loss: 3.5939 - val_accuracy: 0.4653\n",
            "Epoch 222/250\n",
            "41/41 [==============================] - 1s 20ms/step - loss: 0.3142 - accuracy: 0.8904 - val_loss: 3.5005 - val_accuracy: 0.4583\n",
            "Epoch 223/250\n",
            "41/41 [==============================] - 1s 20ms/step - loss: 0.2698 - accuracy: 0.8989 - val_loss: 3.7835 - val_accuracy: 0.3889\n",
            "Epoch 224/250\n",
            "41/41 [==============================] - 1s 20ms/step - loss: 0.2816 - accuracy: 0.8951 - val_loss: 3.5815 - val_accuracy: 0.4236\n",
            "Epoch 225/250\n",
            "41/41 [==============================] - 1s 20ms/step - loss: 0.2585 - accuracy: 0.9144 - val_loss: 3.6783 - val_accuracy: 0.4583\n",
            "Epoch 226/250\n",
            "41/41 [==============================] - 1s 20ms/step - loss: 0.2483 - accuracy: 0.9066 - val_loss: 3.6457 - val_accuracy: 0.4514\n",
            "Epoch 227/250\n",
            "41/41 [==============================] - 1s 20ms/step - loss: 0.2758 - accuracy: 0.9066 - val_loss: 3.5217 - val_accuracy: 0.4306\n",
            "Epoch 228/250\n",
            "41/41 [==============================] - 1s 19ms/step - loss: 0.2444 - accuracy: 0.9105 - val_loss: 3.5342 - val_accuracy: 0.4236\n",
            "Epoch 229/250\n",
            "41/41 [==============================] - 1s 20ms/step - loss: 0.2893 - accuracy: 0.8958 - val_loss: 3.5631 - val_accuracy: 0.4236\n",
            "Epoch 230/250\n",
            "41/41 [==============================] - 1s 21ms/step - loss: 0.2649 - accuracy: 0.9043 - val_loss: 3.7373 - val_accuracy: 0.4167\n",
            "Epoch 231/250\n",
            "41/41 [==============================] - 1s 20ms/step - loss: 0.2750 - accuracy: 0.8989 - val_loss: 3.4166 - val_accuracy: 0.4792\n",
            "Epoch 232/250\n",
            "41/41 [==============================] - 1s 20ms/step - loss: 0.2538 - accuracy: 0.9090 - val_loss: 3.4631 - val_accuracy: 0.4028\n",
            "Epoch 233/250\n",
            "41/41 [==============================] - 1s 20ms/step - loss: 0.2795 - accuracy: 0.9012 - val_loss: 3.5331 - val_accuracy: 0.4375\n",
            "Epoch 234/250\n",
            "41/41 [==============================] - 1s 20ms/step - loss: 0.2390 - accuracy: 0.9120 - val_loss: 3.3662 - val_accuracy: 0.4236\n",
            "Epoch 235/250\n",
            "41/41 [==============================] - 1s 21ms/step - loss: 0.2840 - accuracy: 0.8951 - val_loss: 3.4356 - val_accuracy: 0.4097\n",
            "Epoch 236/250\n",
            "41/41 [==============================] - 1s 20ms/step - loss: 0.3012 - accuracy: 0.8850 - val_loss: 3.5114 - val_accuracy: 0.3750\n",
            "Epoch 237/250\n",
            "41/41 [==============================] - 1s 21ms/step - loss: 0.2993 - accuracy: 0.8765 - val_loss: 3.3698 - val_accuracy: 0.4236\n",
            "Epoch 238/250\n",
            "41/41 [==============================] - 1s 20ms/step - loss: 0.2250 - accuracy: 0.9128 - val_loss: 3.5919 - val_accuracy: 0.4444\n",
            "Epoch 239/250\n",
            "41/41 [==============================] - 1s 20ms/step - loss: 0.2423 - accuracy: 0.9082 - val_loss: 3.7852 - val_accuracy: 0.4375\n",
            "Epoch 240/250\n",
            "41/41 [==============================] - 1s 20ms/step - loss: 0.2929 - accuracy: 0.8958 - val_loss: 3.5122 - val_accuracy: 0.4236\n",
            "Epoch 241/250\n",
            "41/41 [==============================] - 1s 21ms/step - loss: 0.2371 - accuracy: 0.9136 - val_loss: 3.6165 - val_accuracy: 0.4375\n",
            "Epoch 242/250\n",
            "41/41 [==============================] - 1s 21ms/step - loss: 0.2453 - accuracy: 0.9035 - val_loss: 3.5586 - val_accuracy: 0.4375\n",
            "Epoch 243/250\n",
            "41/41 [==============================] - 1s 20ms/step - loss: 0.3028 - accuracy: 0.8935 - val_loss: 3.3719 - val_accuracy: 0.4653\n",
            "Epoch 244/250\n",
            "41/41 [==============================] - 1s 21ms/step - loss: 0.2782 - accuracy: 0.9005 - val_loss: 3.5313 - val_accuracy: 0.4514\n",
            "Epoch 245/250\n",
            "41/41 [==============================] - 1s 21ms/step - loss: 0.2747 - accuracy: 0.8981 - val_loss: 3.9062 - val_accuracy: 0.4097\n",
            "Epoch 246/250\n",
            "41/41 [==============================] - 1s 21ms/step - loss: 0.2441 - accuracy: 0.9128 - val_loss: 3.6322 - val_accuracy: 0.4444\n",
            "Epoch 247/250\n",
            "41/41 [==============================] - 1s 21ms/step - loss: 0.2754 - accuracy: 0.8935 - val_loss: 3.3273 - val_accuracy: 0.4792\n",
            "Epoch 248/250\n",
            "41/41 [==============================] - 1s 21ms/step - loss: 0.2864 - accuracy: 0.8997 - val_loss: 3.6152 - val_accuracy: 0.4306\n",
            "Epoch 249/250\n",
            "41/41 [==============================] - 1s 22ms/step - loss: 0.2898 - accuracy: 0.8843 - val_loss: 3.3006 - val_accuracy: 0.4514\n",
            "Epoch 250/250\n",
            "41/41 [==============================] - 1s 21ms/step - loss: 0.2767 - accuracy: 0.8958 - val_loss: 3.2741 - val_accuracy: 0.4444\n"
          ]
        }
      ]
    },
    {
      "cell_type": "code",
      "metadata": {
        "id": "RuWWhMRC4tet"
      },
      "source": [
        "model.save('Speech-Emotion-Recognition_BEST_Model_shape_40_MFCC.h5')"
      ],
      "execution_count": null,
      "outputs": []
    },
    {
      "cell_type": "code",
      "metadata": {
        "id": "ypYR65Yo421N",
        "colab": {
          "base_uri": "https://localhost:8080/",
          "height": 314
        },
        "outputId": "8afb2a7e-04ae-4e9d-aa1c-dc8a1c39e27a"
      },
      "source": [
        "plt.plot(model_cnn.history['accuracy'])\n",
        "plt.plot(model_cnn.history['val_accuracy'])\n",
        "plt.title('Model acc')\n",
        "plt.ylabel('accuracy')\n",
        "plt.xlabel('epoch')\n",
        "plt.legend()\n",
        "plt.show()"
      ],
      "execution_count": null,
      "outputs": [
        {
          "output_type": "stream",
          "name": "stderr",
          "text": [
            "No handles with labels found to put in legend.\n"
          ]
        },
        {
          "output_type": "display_data",
          "data": {
            "image/png": "[encoded data removed]",
            "text/plain": [
              "<Figure size 432x288 with 1 Axes>"
            ]
          },
          "metadata": {
            "needs_background": "light"
          }
        }
      ]
    }
  ]
}